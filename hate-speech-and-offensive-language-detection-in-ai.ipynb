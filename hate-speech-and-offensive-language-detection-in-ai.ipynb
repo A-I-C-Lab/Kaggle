{
 "cells": [
  {
   "cell_type": "code",
   "execution_count": 1,
   "id": "ecfe7c44",
   "metadata": {
    "_cell_guid": "b1076dfc-b9ad-4769-8c92-a6c4dae69d19",
    "_uuid": "8f2839f25d086af736a60e9eeb907d3b93b6e0e5",
    "execution": {
     "iopub.execute_input": "2023-12-28T04:14:53.637582Z",
     "iopub.status.busy": "2023-12-28T04:14:53.637235Z",
     "iopub.status.idle": "2023-12-28T04:14:54.325321Z",
     "shell.execute_reply": "2023-12-28T04:14:54.324427Z"
    },
    "papermill": {
     "duration": 0.699276,
     "end_time": "2023-12-28T04:14:54.327470",
     "exception": false,
     "start_time": "2023-12-28T04:14:53.628194",
     "status": "completed"
    },
    "tags": []
   },
   "outputs": [
    {
     "name": "stdout",
     "output_type": "stream",
     "text": [
      "/kaggle/input/hate-speech-and-offensive-language-detection/train.csv\n"
     ]
    }
   ],
   "source": [
    "# This Python 3 environment comes with many helpful analytics libraries installed\n",
    "# It is defined by the kaggle/python Docker image: https://github.com/kaggle/docker-python\n",
    "# For example, here's several helpful packages to load\n",
    "\n",
    "import numpy as np # linear algebra\n",
    "import pandas as pd # data processing, CSV file I/O (e.g. pd.read_csv)\n",
    "\n",
    "# Input data files are available in the read-only \"../input/\" directory\n",
    "# For example, running this (by clicking run or pressing Shift+Enter) will list all files under the input directory\n",
    "\n",
    "import os\n",
    "for dirname, _, filenames in os.walk('/kaggle/input'):\n",
    "    for filename in filenames:\n",
    "        print(os.path.join(dirname, filename))\n",
    "\n",
    "# You can write up to 20GB to the current directory (/kaggle/working/) that gets preserved as output when you create a version using \"Save & Run All\" \n",
    "# You can also write temporary files to /kaggle/temp/, but they won't be saved outside of the current session"
   ]
  },
  {
   "cell_type": "code",
   "execution_count": 2,
   "id": "eb3cf7c6",
   "metadata": {
    "execution": {
     "iopub.execute_input": "2023-12-28T04:14:54.344111Z",
     "iopub.status.busy": "2023-12-28T04:14:54.343708Z",
     "iopub.status.idle": "2023-12-28T04:15:06.674247Z",
     "shell.execute_reply": "2023-12-28T04:15:06.673084Z"
    },
    "papermill": {
     "duration": 12.341011,
     "end_time": "2023-12-28T04:15:06.676376",
     "exception": false,
     "start_time": "2023-12-28T04:14:54.335365",
     "status": "completed"
    },
    "tags": []
   },
   "outputs": [
    {
     "name": "stderr",
     "output_type": "stream",
     "text": [
      "/opt/conda/lib/python3.10/site-packages/scipy/__init__.py:146: UserWarning: A NumPy version >=1.16.5 and <1.23.0 is required for this version of SciPy (detected version 1.24.3\n",
      "  warnings.warn(f\"A NumPy version >={np_minversion} and <{np_maxversion}\"\n"
     ]
    },
    {
     "name": "stdout",
     "output_type": "stream",
     "text": [
      "[nltk_data] Downloading package stopwords to /usr/share/nltk_data...\n",
      "[nltk_data]   Package stopwords is already up-to-date!\n"
     ]
    }
   ],
   "source": [
    "import numpy as np\n",
    "import pandas as pd\n",
    "import tensorflow as tf\n",
    "from tensorflow import keras\n",
    "import re\n",
    "import nltk\n",
    "nltk.download('stopwords')\n",
    "from nltk.corpus import stopwords\n",
    "from nltk.stem.porter import PorterStemmer\n",
    "import datetime\n",
    "import os\n",
    "from keras import models\n",
    "from keras import layers"
   ]
  },
  {
   "cell_type": "code",
   "execution_count": 3,
   "id": "7e331b11",
   "metadata": {
    "execution": {
     "iopub.execute_input": "2023-12-28T04:15:06.693615Z",
     "iopub.status.busy": "2023-12-28T04:15:06.693027Z",
     "iopub.status.idle": "2023-12-28T04:15:06.780443Z",
     "shell.execute_reply": "2023-12-28T04:15:06.779661Z"
    },
    "papermill": {
     "duration": 0.098518,
     "end_time": "2023-12-28T04:15:06.782778",
     "exception": false,
     "start_time": "2023-12-28T04:15:06.684260",
     "status": "completed"
    },
    "tags": []
   },
   "outputs": [],
   "source": [
    "dataset=pd.read_csv(\"/kaggle/input/hate-speech-and-offensive-language-detection/train.csv\")"
   ]
  },
  {
   "cell_type": "code",
   "execution_count": 4,
   "id": "9ba89686",
   "metadata": {
    "execution": {
     "iopub.execute_input": "2023-12-28T04:15:06.800068Z",
     "iopub.status.busy": "2023-12-28T04:15:06.799432Z",
     "iopub.status.idle": "2023-12-28T04:15:06.818414Z",
     "shell.execute_reply": "2023-12-28T04:15:06.817525Z"
    },
    "papermill": {
     "duration": 0.029514,
     "end_time": "2023-12-28T04:15:06.820287",
     "exception": false,
     "start_time": "2023-12-28T04:15:06.790773",
     "status": "completed"
    },
    "tags": []
   },
   "outputs": [
    {
     "data": {
      "text/html": [
       "<div>\n",
       "<style scoped>\n",
       "    .dataframe tbody tr th:only-of-type {\n",
       "        vertical-align: middle;\n",
       "    }\n",
       "\n",
       "    .dataframe tbody tr th {\n",
       "        vertical-align: top;\n",
       "    }\n",
       "\n",
       "    .dataframe thead th {\n",
       "        text-align: right;\n",
       "    }\n",
       "</style>\n",
       "<table border=\"1\" class=\"dataframe\">\n",
       "  <thead>\n",
       "    <tr style=\"text-align: right;\">\n",
       "      <th></th>\n",
       "      <th>count</th>\n",
       "      <th>hate_speech_count</th>\n",
       "      <th>offensive_language_count</th>\n",
       "      <th>neither_count</th>\n",
       "      <th>class</th>\n",
       "      <th>tweet</th>\n",
       "    </tr>\n",
       "  </thead>\n",
       "  <tbody>\n",
       "    <tr>\n",
       "      <th>0</th>\n",
       "      <td>3</td>\n",
       "      <td>0</td>\n",
       "      <td>0</td>\n",
       "      <td>3</td>\n",
       "      <td>2</td>\n",
       "      <td>!!! RT @mayasolovely: As a woman you shouldn't...</td>\n",
       "    </tr>\n",
       "    <tr>\n",
       "      <th>1</th>\n",
       "      <td>3</td>\n",
       "      <td>0</td>\n",
       "      <td>3</td>\n",
       "      <td>0</td>\n",
       "      <td>1</td>\n",
       "      <td>!!!!! RT @mleew17: boy dats cold...tyga dwn ba...</td>\n",
       "    </tr>\n",
       "    <tr>\n",
       "      <th>2</th>\n",
       "      <td>3</td>\n",
       "      <td>0</td>\n",
       "      <td>3</td>\n",
       "      <td>0</td>\n",
       "      <td>1</td>\n",
       "      <td>!!!!!!! RT @UrKindOfBrand Dawg!!!! RT @80sbaby...</td>\n",
       "    </tr>\n",
       "    <tr>\n",
       "      <th>3</th>\n",
       "      <td>3</td>\n",
       "      <td>0</td>\n",
       "      <td>2</td>\n",
       "      <td>1</td>\n",
       "      <td>1</td>\n",
       "      <td>!!!!!!!!! RT @C_G_Anderson: @viva_based she lo...</td>\n",
       "    </tr>\n",
       "    <tr>\n",
       "      <th>4</th>\n",
       "      <td>6</td>\n",
       "      <td>0</td>\n",
       "      <td>6</td>\n",
       "      <td>0</td>\n",
       "      <td>1</td>\n",
       "      <td>!!!!!!!!!!!!! RT @ShenikaRoberts: The shit you...</td>\n",
       "    </tr>\n",
       "    <tr>\n",
       "      <th>5</th>\n",
       "      <td>3</td>\n",
       "      <td>1</td>\n",
       "      <td>2</td>\n",
       "      <td>0</td>\n",
       "      <td>1</td>\n",
       "      <td>!!!!!!!!!!!!!!!!!!\"@T_Madison_x: The shit just...</td>\n",
       "    </tr>\n",
       "    <tr>\n",
       "      <th>6</th>\n",
       "      <td>3</td>\n",
       "      <td>0</td>\n",
       "      <td>3</td>\n",
       "      <td>0</td>\n",
       "      <td>1</td>\n",
       "      <td>!!!!!!\"@__BrighterDays: I can not just sit up ...</td>\n",
       "    </tr>\n",
       "    <tr>\n",
       "      <th>7</th>\n",
       "      <td>3</td>\n",
       "      <td>0</td>\n",
       "      <td>3</td>\n",
       "      <td>0</td>\n",
       "      <td>1</td>\n",
       "      <td>!!!!&amp;#8220;@selfiequeenbri: cause I'm tired of...</td>\n",
       "    </tr>\n",
       "    <tr>\n",
       "      <th>8</th>\n",
       "      <td>3</td>\n",
       "      <td>0</td>\n",
       "      <td>3</td>\n",
       "      <td>0</td>\n",
       "      <td>1</td>\n",
       "      <td>\" &amp;amp; you might not get ya bitch back &amp;amp; ...</td>\n",
       "    </tr>\n",
       "    <tr>\n",
       "      <th>9</th>\n",
       "      <td>3</td>\n",
       "      <td>1</td>\n",
       "      <td>2</td>\n",
       "      <td>0</td>\n",
       "      <td>1</td>\n",
       "      <td>\" @rhythmixx_ :hobbies include: fighting Maria...</td>\n",
       "    </tr>\n",
       "    <tr>\n",
       "      <th>10</th>\n",
       "      <td>3</td>\n",
       "      <td>0</td>\n",
       "      <td>3</td>\n",
       "      <td>0</td>\n",
       "      <td>1</td>\n",
       "      <td>\" Keeks is a bitch she curves everyone \" lol I...</td>\n",
       "    </tr>\n",
       "    <tr>\n",
       "      <th>11</th>\n",
       "      <td>3</td>\n",
       "      <td>0</td>\n",
       "      <td>3</td>\n",
       "      <td>0</td>\n",
       "      <td>1</td>\n",
       "      <td>\" Murda Gang bitch its Gang Land \"</td>\n",
       "    </tr>\n",
       "    <tr>\n",
       "      <th>12</th>\n",
       "      <td>3</td>\n",
       "      <td>0</td>\n",
       "      <td>2</td>\n",
       "      <td>1</td>\n",
       "      <td>1</td>\n",
       "      <td>\" So hoes that smoke are losers ? \" yea ... go...</td>\n",
       "    </tr>\n",
       "    <tr>\n",
       "      <th>13</th>\n",
       "      <td>3</td>\n",
       "      <td>0</td>\n",
       "      <td>3</td>\n",
       "      <td>0</td>\n",
       "      <td>1</td>\n",
       "      <td>\" bad bitches is the only thing that i like \"</td>\n",
       "    </tr>\n",
       "    <tr>\n",
       "      <th>14</th>\n",
       "      <td>3</td>\n",
       "      <td>1</td>\n",
       "      <td>2</td>\n",
       "      <td>0</td>\n",
       "      <td>1</td>\n",
       "      <td>\" bitch get up off me \"</td>\n",
       "    </tr>\n",
       "  </tbody>\n",
       "</table>\n",
       "</div>"
      ],
      "text/plain": [
       "    count  hate_speech_count  offensive_language_count  neither_count  class  \\\n",
       "0       3                  0                         0              3      2   \n",
       "1       3                  0                         3              0      1   \n",
       "2       3                  0                         3              0      1   \n",
       "3       3                  0                         2              1      1   \n",
       "4       6                  0                         6              0      1   \n",
       "5       3                  1                         2              0      1   \n",
       "6       3                  0                         3              0      1   \n",
       "7       3                  0                         3              0      1   \n",
       "8       3                  0                         3              0      1   \n",
       "9       3                  1                         2              0      1   \n",
       "10      3                  0                         3              0      1   \n",
       "11      3                  0                         3              0      1   \n",
       "12      3                  0                         2              1      1   \n",
       "13      3                  0                         3              0      1   \n",
       "14      3                  1                         2              0      1   \n",
       "\n",
       "                                                tweet  \n",
       "0   !!! RT @mayasolovely: As a woman you shouldn't...  \n",
       "1   !!!!! RT @mleew17: boy dats cold...tyga dwn ba...  \n",
       "2   !!!!!!! RT @UrKindOfBrand Dawg!!!! RT @80sbaby...  \n",
       "3   !!!!!!!!! RT @C_G_Anderson: @viva_based she lo...  \n",
       "4   !!!!!!!!!!!!! RT @ShenikaRoberts: The shit you...  \n",
       "5   !!!!!!!!!!!!!!!!!!\"@T_Madison_x: The shit just...  \n",
       "6   !!!!!!\"@__BrighterDays: I can not just sit up ...  \n",
       "7   !!!!&#8220;@selfiequeenbri: cause I'm tired of...  \n",
       "8   \" &amp; you might not get ya bitch back &amp; ...  \n",
       "9   \" @rhythmixx_ :hobbies include: fighting Maria...  \n",
       "10  \" Keeks is a bitch she curves everyone \" lol I...  \n",
       "11                 \" Murda Gang bitch its Gang Land \"  \n",
       "12  \" So hoes that smoke are losers ? \" yea ... go...  \n",
       "13      \" bad bitches is the only thing that i like \"  \n",
       "14                            \" bitch get up off me \"  "
      ]
     },
     "execution_count": 4,
     "metadata": {},
     "output_type": "execute_result"
    }
   ],
   "source": [
    "dataset.head(15)"
   ]
  },
  {
   "cell_type": "code",
   "execution_count": 5,
   "id": "1572eb5a",
   "metadata": {
    "execution": {
     "iopub.execute_input": "2023-12-28T04:15:06.837841Z",
     "iopub.status.busy": "2023-12-28T04:15:06.837118Z",
     "iopub.status.idle": "2023-12-28T04:15:06.855414Z",
     "shell.execute_reply": "2023-12-28T04:15:06.854582Z"
    },
    "papermill": {
     "duration": 0.028885,
     "end_time": "2023-12-28T04:15:06.857246",
     "exception": false,
     "start_time": "2023-12-28T04:15:06.828361",
     "status": "completed"
    },
    "tags": []
   },
   "outputs": [
    {
     "data": {
      "text/html": [
       "<div>\n",
       "<style scoped>\n",
       "    .dataframe tbody tr th:only-of-type {\n",
       "        vertical-align: middle;\n",
       "    }\n",
       "\n",
       "    .dataframe tbody tr th {\n",
       "        vertical-align: top;\n",
       "    }\n",
       "\n",
       "    .dataframe thead th {\n",
       "        text-align: right;\n",
       "    }\n",
       "</style>\n",
       "<table border=\"1\" class=\"dataframe\">\n",
       "  <thead>\n",
       "    <tr style=\"text-align: right;\">\n",
       "      <th></th>\n",
       "      <th>class</th>\n",
       "      <th>tweet</th>\n",
       "    </tr>\n",
       "  </thead>\n",
       "  <tbody>\n",
       "    <tr>\n",
       "      <th>0</th>\n",
       "      <td>2</td>\n",
       "      <td>!!! RT @mayasolovely: As a woman you shouldn't...</td>\n",
       "    </tr>\n",
       "    <tr>\n",
       "      <th>1</th>\n",
       "      <td>1</td>\n",
       "      <td>!!!!! RT @mleew17: boy dats cold...tyga dwn ba...</td>\n",
       "    </tr>\n",
       "    <tr>\n",
       "      <th>2</th>\n",
       "      <td>1</td>\n",
       "      <td>!!!!!!! RT @UrKindOfBrand Dawg!!!! RT @80sbaby...</td>\n",
       "    </tr>\n",
       "    <tr>\n",
       "      <th>3</th>\n",
       "      <td>1</td>\n",
       "      <td>!!!!!!!!! RT @C_G_Anderson: @viva_based she lo...</td>\n",
       "    </tr>\n",
       "    <tr>\n",
       "      <th>4</th>\n",
       "      <td>1</td>\n",
       "      <td>!!!!!!!!!!!!! RT @ShenikaRoberts: The shit you...</td>\n",
       "    </tr>\n",
       "    <tr>\n",
       "      <th>5</th>\n",
       "      <td>1</td>\n",
       "      <td>!!!!!!!!!!!!!!!!!!\"@T_Madison_x: The shit just...</td>\n",
       "    </tr>\n",
       "    <tr>\n",
       "      <th>6</th>\n",
       "      <td>1</td>\n",
       "      <td>!!!!!!\"@__BrighterDays: I can not just sit up ...</td>\n",
       "    </tr>\n",
       "    <tr>\n",
       "      <th>7</th>\n",
       "      <td>1</td>\n",
       "      <td>!!!!&amp;#8220;@selfiequeenbri: cause I'm tired of...</td>\n",
       "    </tr>\n",
       "    <tr>\n",
       "      <th>8</th>\n",
       "      <td>1</td>\n",
       "      <td>\" &amp;amp; you might not get ya bitch back &amp;amp; ...</td>\n",
       "    </tr>\n",
       "    <tr>\n",
       "      <th>9</th>\n",
       "      <td>1</td>\n",
       "      <td>\" @rhythmixx_ :hobbies include: fighting Maria...</td>\n",
       "    </tr>\n",
       "  </tbody>\n",
       "</table>\n",
       "</div>"
      ],
      "text/plain": [
       "   class                                              tweet\n",
       "0      2  !!! RT @mayasolovely: As a woman you shouldn't...\n",
       "1      1  !!!!! RT @mleew17: boy dats cold...tyga dwn ba...\n",
       "2      1  !!!!!!! RT @UrKindOfBrand Dawg!!!! RT @80sbaby...\n",
       "3      1  !!!!!!!!! RT @C_G_Anderson: @viva_based she lo...\n",
       "4      1  !!!!!!!!!!!!! RT @ShenikaRoberts: The shit you...\n",
       "5      1  !!!!!!!!!!!!!!!!!!\"@T_Madison_x: The shit just...\n",
       "6      1  !!!!!!\"@__BrighterDays: I can not just sit up ...\n",
       "7      1  !!!!&#8220;@selfiequeenbri: cause I'm tired of...\n",
       "8      1  \" &amp; you might not get ya bitch back &amp; ...\n",
       "9      1  \" @rhythmixx_ :hobbies include: fighting Maria..."
      ]
     },
     "execution_count": 5,
     "metadata": {},
     "output_type": "execute_result"
    }
   ],
   "source": [
    "dataset[[\"class\",\"tweet\"]].head(10)"
   ]
  },
  {
   "cell_type": "code",
   "execution_count": 6,
   "id": "1668721e",
   "metadata": {
    "execution": {
     "iopub.execute_input": "2023-12-28T04:15:06.874919Z",
     "iopub.status.busy": "2023-12-28T04:15:06.874614Z",
     "iopub.status.idle": "2023-12-28T04:15:06.878609Z",
     "shell.execute_reply": "2023-12-28T04:15:06.877794Z"
    },
    "papermill": {
     "duration": 0.014959,
     "end_time": "2023-12-28T04:15:06.880519",
     "exception": false,
     "start_time": "2023-12-28T04:15:06.865560",
     "status": "completed"
    },
    "tags": []
   },
   "outputs": [],
   "source": [
    "label=np.asarray(dataset[\"class\"])"
   ]
  },
  {
   "cell_type": "code",
   "execution_count": 7,
   "id": "d0a1f0f3",
   "metadata": {
    "execution": {
     "iopub.execute_input": "2023-12-28T04:15:06.898140Z",
     "iopub.status.busy": "2023-12-28T04:15:06.897580Z",
     "iopub.status.idle": "2023-12-28T04:15:06.903417Z",
     "shell.execute_reply": "2023-12-28T04:15:06.902608Z"
    },
    "papermill": {
     "duration": 0.01653,
     "end_time": "2023-12-28T04:15:06.905259",
     "exception": false,
     "start_time": "2023-12-28T04:15:06.888729",
     "status": "completed"
    },
    "tags": []
   },
   "outputs": [
    {
     "data": {
      "text/plain": [
       "array([2, 1, 1, ..., 1, 1, 2])"
      ]
     },
     "execution_count": 7,
     "metadata": {},
     "output_type": "execute_result"
    }
   ],
   "source": [
    "label"
   ]
  },
  {
   "cell_type": "code",
   "execution_count": 8,
   "id": "92b55dc2",
   "metadata": {
    "execution": {
     "iopub.execute_input": "2023-12-28T04:15:06.922721Z",
     "iopub.status.busy": "2023-12-28T04:15:06.922465Z",
     "iopub.status.idle": "2023-12-28T04:15:06.930574Z",
     "shell.execute_reply": "2023-12-28T04:15:06.929663Z"
    },
    "papermill": {
     "duration": 0.018953,
     "end_time": "2023-12-28T04:15:06.932519",
     "exception": false,
     "start_time": "2023-12-28T04:15:06.913566",
     "status": "completed"
    },
    "tags": []
   },
   "outputs": [
    {
     "name": "stdout",
     "output_type": "stream",
     "text": [
      "Shape of Dataset (24783, 6)\n",
      "-------------------------------------------------\n",
      "Total Tweets 24783 and Classes [2 1 0]\n",
      "-------------------------------------------------\n"
     ]
    }
   ],
   "source": [
    "dash_line=\"-\".join(\"\" for x in range(50))\n",
    "print(f\"Shape of Dataset {dataset.shape}\")\n",
    "print(dash_line)\n",
    "print(f\"Total Tweets {len(dataset['tweet'])} and Classes {dataset['class'].unique()}\")\n",
    "print(dash_line)"
   ]
  },
  {
   "cell_type": "markdown",
   "id": "5aee945d",
   "metadata": {
    "papermill": {
     "duration": 0.008091,
     "end_time": "2023-12-28T04:15:06.949191",
     "exception": false,
     "start_time": "2023-12-28T04:15:06.941100",
     "status": "completed"
    },
    "tags": []
   },
   "source": [
    "# Cleaning unrelated charactor form texts"
   ]
  },
  {
   "cell_type": "code",
   "execution_count": 9,
   "id": "918910cd",
   "metadata": {
    "execution": {
     "iopub.execute_input": "2023-12-28T04:15:06.966777Z",
     "iopub.status.busy": "2023-12-28T04:15:06.966506Z",
     "iopub.status.idle": "2023-12-28T04:16:02.709373Z",
     "shell.execute_reply": "2023-12-28T04:16:02.708562Z"
    },
    "papermill": {
     "duration": 55.754248,
     "end_time": "2023-12-28T04:16:02.711783",
     "exception": false,
     "start_time": "2023-12-28T04:15:06.957535",
     "status": "completed"
    },
    "tags": []
   },
   "outputs": [],
   "source": [
    "corpus = []\n",
    "for i in range(0, 24783):\n",
    "    review = re.sub('[^a-zA-Z]', ' ', dataset['tweet'][i])\n",
    "    review = review.lower()\n",
    "    review = review.split()\n",
    "    ps = PorterStemmer()\n",
    "    review = [ps.stem(word) for word in review if not word in set(stopwords.words('english'))]\n",
    "    review = ' '.join(review)\n",
    "    corpus.append(review)"
   ]
  },
  {
   "cell_type": "code",
   "execution_count": 10,
   "id": "35ccb642",
   "metadata": {
    "execution": {
     "iopub.execute_input": "2023-12-28T04:16:02.730358Z",
     "iopub.status.busy": "2023-12-28T04:16:02.730052Z",
     "iopub.status.idle": "2023-12-28T04:16:02.735759Z",
     "shell.execute_reply": "2023-12-28T04:16:02.734944Z"
    },
    "papermill": {
     "duration": 0.017042,
     "end_time": "2023-12-28T04:16:02.737701",
     "exception": false,
     "start_time": "2023-12-28T04:16:02.720659",
     "status": "completed"
    },
    "tags": []
   },
   "outputs": [
    {
     "data": {
      "text/plain": [
       "['rt mayasolov woman complain clean hous amp man alway take trash',\n",
       " 'rt mleew boy dat cold tyga dwn bad cuffin dat hoe st place',\n",
       " 'rt urkindofbrand dawg rt sbabi life ever fuck bitch start cri confus shit',\n",
       " 'rt c g anderson viva base look like tranni',\n",
       " 'rt shenikarobert shit hear might true might faker bitch told ya',\n",
       " 'madison x shit blow claim faith somebodi still fuck hoe',\n",
       " 'brighterday sit hate anoth bitch got much shit go',\n",
       " 'selfiequeenbri caus tire big bitch come us skinni girl',\n",
       " 'amp might get ya bitch back amp that',\n",
       " 'rhythmixx hobbi includ fight mariam bitch']"
      ]
     },
     "execution_count": 10,
     "metadata": {},
     "output_type": "execute_result"
    }
   ],
   "source": [
    "corpus[:10]"
   ]
  },
  {
   "cell_type": "markdown",
   "id": "d9c518e9",
   "metadata": {
    "papermill": {
     "duration": 0.008239,
     "end_time": "2023-12-28T04:16:02.754407",
     "exception": false,
     "start_time": "2023-12-28T04:16:02.746168",
     "status": "completed"
    },
    "tags": []
   },
   "source": [
    "# Cleaning & Converting text  into sequence "
   ]
  },
  {
   "cell_type": "code",
   "execution_count": 11,
   "id": "48de9db1",
   "metadata": {
    "execution": {
     "iopub.execute_input": "2023-12-28T04:16:02.772305Z",
     "iopub.status.busy": "2023-12-28T04:16:02.772023Z",
     "iopub.status.idle": "2023-12-28T04:16:02.775963Z",
     "shell.execute_reply": "2023-12-28T04:16:02.775135Z"
    },
    "papermill": {
     "duration": 0.015149,
     "end_time": "2023-12-28T04:16:02.777926",
     "exception": false,
     "start_time": "2023-12-28T04:16:02.762777",
     "status": "completed"
    },
    "tags": []
   },
   "outputs": [],
   "source": [
    "from keras.preprocessing.text import Tokenizer\n",
    "from keras.preprocessing.sequence import pad_sequences"
   ]
  },
  {
   "cell_type": "code",
   "execution_count": 12,
   "id": "cc45f7f0",
   "metadata": {
    "execution": {
     "iopub.execute_input": "2023-12-28T04:16:02.796262Z",
     "iopub.status.busy": "2023-12-28T04:16:02.795776Z",
     "iopub.status.idle": "2023-12-28T04:16:02.799663Z",
     "shell.execute_reply": "2023-12-28T04:16:02.798909Z"
    },
    "papermill": {
     "duration": 0.015104,
     "end_time": "2023-12-28T04:16:02.801528",
     "exception": false,
     "start_time": "2023-12-28T04:16:02.786424",
     "status": "completed"
    },
    "tags": []
   },
   "outputs": [],
   "source": [
    "max_word=1000\n",
    "tokenizer=Tokenizer(num_words=max_word)"
   ]
  },
  {
   "cell_type": "code",
   "execution_count": 13,
   "id": "2a1d074b",
   "metadata": {
    "execution": {
     "iopub.execute_input": "2023-12-28T04:16:02.819248Z",
     "iopub.status.busy": "2023-12-28T04:16:02.819006Z",
     "iopub.status.idle": "2023-12-28T04:16:03.261005Z",
     "shell.execute_reply": "2023-12-28T04:16:03.260232Z"
    },
    "papermill": {
     "duration": 0.453356,
     "end_time": "2023-12-28T04:16:03.263200",
     "exception": false,
     "start_time": "2023-12-28T04:16:02.809844",
     "status": "completed"
    },
    "tags": []
   },
   "outputs": [],
   "source": [
    "tokenizer.fit_on_texts(corpus)"
   ]
  },
  {
   "cell_type": "code",
   "execution_count": 14,
   "id": "2c658d6c",
   "metadata": {
    "execution": {
     "iopub.execute_input": "2023-12-28T04:16:03.281691Z",
     "iopub.status.busy": "2023-12-28T04:16:03.281401Z",
     "iopub.status.idle": "2023-12-28T04:16:03.606934Z",
     "shell.execute_reply": "2023-12-28T04:16:03.606156Z"
    },
    "papermill": {
     "duration": 0.336998,
     "end_time": "2023-12-28T04:16:03.609020",
     "exception": false,
     "start_time": "2023-12-28T04:16:03.272022",
     "status": "completed"
    },
    "tags": []
   },
   "outputs": [],
   "source": [
    "sequences=tokenizer.texts_to_sequences(corpus)"
   ]
  },
  {
   "cell_type": "code",
   "execution_count": 15,
   "id": "b9400e52",
   "metadata": {
    "execution": {
     "iopub.execute_input": "2023-12-28T04:16:03.627457Z",
     "iopub.status.busy": "2023-12-28T04:16:03.627186Z",
     "iopub.status.idle": "2023-12-28T04:16:03.634410Z",
     "shell.execute_reply": "2023-12-28T04:16:03.633574Z"
    },
    "papermill": {
     "duration": 0.018642,
     "end_time": "2023-12-28T04:16:03.636304",
     "exception": false,
     "start_time": "2023-12-28T04:16:03.617662",
     "status": "completed"
    },
    "tags": []
   },
   "outputs": [
    {
     "data": {
      "text/plain": [
       "[[2, 277, 613, 546, 217, 17, 31, 92, 56, 15],\n",
       " [2, 94, 76, 445, 32, 76, 3, 417, 405],\n",
       " [2, 654, 2, 939, 65, 98, 8, 1, 123, 245, 806, 13],\n",
       " [2, 221, 211, 709, 21, 6, 528],\n",
       " [2, 13, 369, 251, 435, 251, 1, 196, 41],\n",
       " [186, 13, 579, 614, 940, 414, 42, 8, 3],\n",
       " [332, 37, 173, 1, 14, 126, 13, 18],\n",
       " [81, 427, 108, 1, 47, 163, 580, 25],\n",
       " [17, 251, 10, 41, 1, 43, 17, 190],\n",
       " [198, 1]]"
      ]
     },
     "execution_count": 15,
     "metadata": {},
     "output_type": "execute_result"
    }
   ],
   "source": [
    "sequences[:10]"
   ]
  },
  {
   "cell_type": "code",
   "execution_count": 16,
   "id": "04b3d215",
   "metadata": {
    "execution": {
     "iopub.execute_input": "2023-12-28T04:16:03.654423Z",
     "iopub.status.busy": "2023-12-28T04:16:03.654152Z",
     "iopub.status.idle": "2023-12-28T04:16:03.752719Z",
     "shell.execute_reply": "2023-12-28T04:16:03.752035Z"
    },
    "papermill": {
     "duration": 0.109791,
     "end_time": "2023-12-28T04:16:03.754685",
     "exception": false,
     "start_time": "2023-12-28T04:16:03.644894",
     "status": "completed"
    },
    "tags": []
   },
   "outputs": [],
   "source": [
    "max_len=100\n",
    "data = pad_sequences(sequences,maxlen=max_len)"
   ]
  },
  {
   "cell_type": "code",
   "execution_count": 17,
   "id": "325fe27e",
   "metadata": {
    "execution": {
     "iopub.execute_input": "2023-12-28T04:16:03.773122Z",
     "iopub.status.busy": "2023-12-28T04:16:03.772818Z",
     "iopub.status.idle": "2023-12-28T04:16:03.781117Z",
     "shell.execute_reply": "2023-12-28T04:16:03.780272Z"
    },
    "papermill": {
     "duration": 0.0196,
     "end_time": "2023-12-28T04:16:03.782971",
     "exception": false,
     "start_time": "2023-12-28T04:16:03.763371",
     "status": "completed"
    },
    "tags": []
   },
   "outputs": [
    {
     "data": {
      "text/plain": [
       "array([[  0,   0,   0,   0,   0,   0,   0,   0,   0,   0,   0,   0,   0,\n",
       "          0,   0,   0,   0,   0,   0,   0,   0,   0,   0,   0,   0,   0,\n",
       "          0,   0,   0,   0,   0,   0,   0,   0,   0,   0,   0,   0,   0,\n",
       "          0,   0,   0,   0,   0,   0,   0,   0,   0,   0,   0,   0,   0,\n",
       "          0,   0,   0,   0,   0,   0,   0,   0,   0,   0,   0,   0,   0,\n",
       "          0,   0,   0,   0,   0,   0,   0,   0,   0,   0,   0,   0,   0,\n",
       "          0,   0,   0,   0,   0,   0,   0,   0,   0,   0,   0,   0,   2,\n",
       "        277, 613, 546, 217,  17,  31,  92,  56,  15],\n",
       "       [  0,   0,   0,   0,   0,   0,   0,   0,   0,   0,   0,   0,   0,\n",
       "          0,   0,   0,   0,   0,   0,   0,   0,   0,   0,   0,   0,   0,\n",
       "          0,   0,   0,   0,   0,   0,   0,   0,   0,   0,   0,   0,   0,\n",
       "          0,   0,   0,   0,   0,   0,   0,   0,   0,   0,   0,   0,   0,\n",
       "          0,   0,   0,   0,   0,   0,   0,   0,   0,   0,   0,   0,   0,\n",
       "          0,   0,   0,   0,   0,   0,   0,   0,   0,   0,   0,   0,   0,\n",
       "          0,   0,   0,   0,   0,   0,   0,   0,   0,   0,   0,   0,   0,\n",
       "          2,  94,  76, 445,  32,  76,   3, 417, 405],\n",
       "       [  0,   0,   0,   0,   0,   0,   0,   0,   0,   0,   0,   0,   0,\n",
       "          0,   0,   0,   0,   0,   0,   0,   0,   0,   0,   0,   0,   0,\n",
       "          0,   0,   0,   0,   0,   0,   0,   0,   0,   0,   0,   0,   0,\n",
       "          0,   0,   0,   0,   0,   0,   0,   0,   0,   0,   0,   0,   0,\n",
       "          0,   0,   0,   0,   0,   0,   0,   0,   0,   0,   0,   0,   0,\n",
       "          0,   0,   0,   0,   0,   0,   0,   0,   0,   0,   0,   0,   0,\n",
       "          0,   0,   0,   0,   0,   0,   0,   0,   0,   0,   2, 654,   2,\n",
       "        939,  65,  98,   8,   1, 123, 245, 806,  13],\n",
       "       [  0,   0,   0,   0,   0,   0,   0,   0,   0,   0,   0,   0,   0,\n",
       "          0,   0,   0,   0,   0,   0,   0,   0,   0,   0,   0,   0,   0,\n",
       "          0,   0,   0,   0,   0,   0,   0,   0,   0,   0,   0,   0,   0,\n",
       "          0,   0,   0,   0,   0,   0,   0,   0,   0,   0,   0,   0,   0,\n",
       "          0,   0,   0,   0,   0,   0,   0,   0,   0,   0,   0,   0,   0,\n",
       "          0,   0,   0,   0,   0,   0,   0,   0,   0,   0,   0,   0,   0,\n",
       "          0,   0,   0,   0,   0,   0,   0,   0,   0,   0,   0,   0,   0,\n",
       "          0,   0,   2, 221, 211, 709,  21,   6, 528],\n",
       "       [  0,   0,   0,   0,   0,   0,   0,   0,   0,   0,   0,   0,   0,\n",
       "          0,   0,   0,   0,   0,   0,   0,   0,   0,   0,   0,   0,   0,\n",
       "          0,   0,   0,   0,   0,   0,   0,   0,   0,   0,   0,   0,   0,\n",
       "          0,   0,   0,   0,   0,   0,   0,   0,   0,   0,   0,   0,   0,\n",
       "          0,   0,   0,   0,   0,   0,   0,   0,   0,   0,   0,   0,   0,\n",
       "          0,   0,   0,   0,   0,   0,   0,   0,   0,   0,   0,   0,   0,\n",
       "          0,   0,   0,   0,   0,   0,   0,   0,   0,   0,   0,   0,   0,\n",
       "          2,  13, 369, 251, 435, 251,   1, 196,  41]], dtype=int32)"
      ]
     },
     "execution_count": 17,
     "metadata": {},
     "output_type": "execute_result"
    }
   ],
   "source": [
    "data[:5]"
   ]
  },
  {
   "cell_type": "code",
   "execution_count": 18,
   "id": "cec97d87",
   "metadata": {
    "execution": {
     "iopub.execute_input": "2023-12-28T04:16:03.801646Z",
     "iopub.status.busy": "2023-12-28T04:16:03.801371Z",
     "iopub.status.idle": "2023-12-28T04:16:03.808385Z",
     "shell.execute_reply": "2023-12-28T04:16:03.807509Z"
    },
    "papermill": {
     "duration": 0.018922,
     "end_time": "2023-12-28T04:16:03.810770",
     "exception": false,
     "start_time": "2023-12-28T04:16:03.791848",
     "status": "completed"
    },
    "tags": []
   },
   "outputs": [
    {
     "name": "stdout",
     "output_type": "stream",
     "text": [
      "Data 0\n",
      "Original Text:\n",
      " rt mayasolov woman complain clean hous amp man alway take trash \n",
      " \n",
      "\n",
      "Sequence:\n",
      "[2, 277, 613, 546, 217, 17, 31, 92, 56, 15] \n",
      " \n",
      "\n",
      "Tensor:\n",
      " [  0   0   0   0   0   0   0   0   0   0   0   0   0   0   0   0   0   0\n",
      "   0   0   0   0   0   0   0   0   0   0   0   0   0   0   0   0   0   0\n",
      "   0   0   0   0   0   0   0   0   0   0   0   0   0   0   0   0   0   0\n",
      "   0   0   0   0   0   0   0   0   0   0   0   0   0   0   0   0   0   0\n",
      "   0   0   0   0   0   0   0   0   0   0   0   0   0   0   0   0   0   0\n",
      "   2 277 613 546 217  17  31  92  56  15] \n",
      " \n",
      "\n",
      "Data 1\n",
      "Original Text:\n",
      " rt mleew boy dat cold tyga dwn bad cuffin dat hoe st place \n",
      " \n",
      "\n",
      "Sequence:\n",
      "[2, 94, 76, 445, 32, 76, 3, 417, 405] \n",
      " \n",
      "\n",
      "Tensor:\n",
      " [  0   0   0   0   0   0   0   0   0   0   0   0   0   0   0   0   0   0\n",
      "   0   0   0   0   0   0   0   0   0   0   0   0   0   0   0   0   0   0\n",
      "   0   0   0   0   0   0   0   0   0   0   0   0   0   0   0   0   0   0\n",
      "   0   0   0   0   0   0   0   0   0   0   0   0   0   0   0   0   0   0\n",
      "   0   0   0   0   0   0   0   0   0   0   0   0   0   0   0   0   0   0\n",
      "   0   2  94  76 445  32  76   3 417 405] \n",
      " \n",
      "\n",
      "Data 2\n",
      "Original Text:\n",
      " rt urkindofbrand dawg rt sbabi life ever fuck bitch start cri confus shit \n",
      " \n",
      "\n",
      "Sequence:\n",
      "[2, 654, 2, 939, 65, 98, 8, 1, 123, 245, 806, 13] \n",
      " \n",
      "\n",
      "Tensor:\n",
      " [  0   0   0   0   0   0   0   0   0   0   0   0   0   0   0   0   0   0\n",
      "   0   0   0   0   0   0   0   0   0   0   0   0   0   0   0   0   0   0\n",
      "   0   0   0   0   0   0   0   0   0   0   0   0   0   0   0   0   0   0\n",
      "   0   0   0   0   0   0   0   0   0   0   0   0   0   0   0   0   0   0\n",
      "   0   0   0   0   0   0   0   0   0   0   0   0   0   0   0   0   2 654\n",
      "   2 939  65  98   8   1 123 245 806  13] \n",
      " \n",
      "\n",
      "Data 3\n",
      "Original Text:\n",
      " rt c g anderson viva base look like tranni \n",
      " \n",
      "\n",
      "Sequence:\n",
      "[2, 221, 211, 709, 21, 6, 528] \n",
      " \n",
      "\n",
      "Tensor:\n",
      " [  0   0   0   0   0   0   0   0   0   0   0   0   0   0   0   0   0   0\n",
      "   0   0   0   0   0   0   0   0   0   0   0   0   0   0   0   0   0   0\n",
      "   0   0   0   0   0   0   0   0   0   0   0   0   0   0   0   0   0   0\n",
      "   0   0   0   0   0   0   0   0   0   0   0   0   0   0   0   0   0   0\n",
      "   0   0   0   0   0   0   0   0   0   0   0   0   0   0   0   0   0   0\n",
      "   0   0   0   2 221 211 709  21   6 528] \n",
      " \n",
      "\n",
      "Data 4\n",
      "Original Text:\n",
      " rt shenikarobert shit hear might true might faker bitch told ya \n",
      " \n",
      "\n",
      "Sequence:\n",
      "[2, 13, 369, 251, 435, 251, 1, 196, 41] \n",
      " \n",
      "\n",
      "Tensor:\n",
      " [  0   0   0   0   0   0   0   0   0   0   0   0   0   0   0   0   0   0\n",
      "   0   0   0   0   0   0   0   0   0   0   0   0   0   0   0   0   0   0\n",
      "   0   0   0   0   0   0   0   0   0   0   0   0   0   0   0   0   0   0\n",
      "   0   0   0   0   0   0   0   0   0   0   0   0   0   0   0   0   0   0\n",
      "   0   0   0   0   0   0   0   0   0   0   0   0   0   0   0   0   0   0\n",
      "   0   2  13 369 251 435 251   1 196  41] \n",
      " \n",
      "\n"
     ]
    }
   ],
   "source": [
    "for i in range(5):\n",
    "    print(f\"Data {i}\")\n",
    "    print(f\"Original Text:\\n {corpus[i]} \\n \\n\")\n",
    "    print(f\"Sequence:\\n{sequences[i]} \\n \\n\")\n",
    "    print(f\"Tensor:\\n {data[i]} \\n \\n\")"
   ]
  },
  {
   "cell_type": "markdown",
   "id": "77b77169",
   "metadata": {
    "papermill": {
     "duration": 0.008676,
     "end_time": "2023-12-28T04:16:03.828657",
     "exception": false,
     "start_time": "2023-12-28T04:16:03.819981",
     "status": "completed"
    },
    "tags": []
   },
   "source": [
    "# Spliting data into test and training "
   ]
  },
  {
   "cell_type": "code",
   "execution_count": 19,
   "id": "4f81fff6",
   "metadata": {
    "execution": {
     "iopub.execute_input": "2023-12-28T04:16:03.847641Z",
     "iopub.status.busy": "2023-12-28T04:16:03.847375Z",
     "iopub.status.idle": "2023-12-28T04:16:03.851751Z",
     "shell.execute_reply": "2023-12-28T04:16:03.850967Z"
    },
    "papermill": {
     "duration": 0.015898,
     "end_time": "2023-12-28T04:16:03.853570",
     "exception": false,
     "start_time": "2023-12-28T04:16:03.837672",
     "status": "completed"
    },
    "tags": []
   },
   "outputs": [],
   "source": [
    "X_train=data[:len(data)//2]\n",
    "y_train=label[:len(data)//2]\n",
    "X_test=data[len(data)//2:]\n",
    "y_test=label[len(data)//2:]"
   ]
  },
  {
   "cell_type": "code",
   "execution_count": 20,
   "id": "e25bbe1b",
   "metadata": {
    "execution": {
     "iopub.execute_input": "2023-12-28T04:16:03.872343Z",
     "iopub.status.busy": "2023-12-28T04:16:03.872072Z",
     "iopub.status.idle": "2023-12-28T04:16:03.877715Z",
     "shell.execute_reply": "2023-12-28T04:16:03.876964Z"
    },
    "papermill": {
     "duration": 0.017139,
     "end_time": "2023-12-28T04:16:03.879530",
     "exception": false,
     "start_time": "2023-12-28T04:16:03.862391",
     "status": "completed"
    },
    "tags": []
   },
   "outputs": [
    {
     "data": {
      "text/plain": [
       "array([[  0,   0,   0, ...,  92,  56,  15],\n",
       "       [  0,   0,   0, ...,   3, 417, 405],\n",
       "       [  0,   0,   0, ..., 245, 806,  13],\n",
       "       ...,\n",
       "       [  0,   0,   0, ..., 623,   1,  93],\n",
       "       [  0,   0,   0, ...,   1,  17,  93],\n",
       "       [  0,   0,   0, ..., 107,   1,  93]], dtype=int32)"
      ]
     },
     "execution_count": 20,
     "metadata": {},
     "output_type": "execute_result"
    }
   ],
   "source": [
    "X_train"
   ]
  },
  {
   "cell_type": "code",
   "execution_count": 21,
   "id": "b5679902",
   "metadata": {
    "execution": {
     "iopub.execute_input": "2023-12-28T04:16:03.898368Z",
     "iopub.status.busy": "2023-12-28T04:16:03.898100Z",
     "iopub.status.idle": "2023-12-28T04:16:03.903741Z",
     "shell.execute_reply": "2023-12-28T04:16:03.902901Z"
    },
    "papermill": {
     "duration": 0.017362,
     "end_time": "2023-12-28T04:16:03.905854",
     "exception": false,
     "start_time": "2023-12-28T04:16:03.888492",
     "status": "completed"
    },
    "tags": []
   },
   "outputs": [
    {
     "data": {
      "text/plain": [
       "array([2, 1, 1, ..., 1, 1, 1])"
      ]
     },
     "execution_count": 21,
     "metadata": {},
     "output_type": "execute_result"
    }
   ],
   "source": [
    "y_train"
   ]
  },
  {
   "cell_type": "markdown",
   "id": "07aacba4",
   "metadata": {
    "papermill": {
     "duration": 0.00893,
     "end_time": "2023-12-28T04:16:03.923825",
     "exception": false,
     "start_time": "2023-12-28T04:16:03.914895",
     "status": "completed"
    },
    "tags": []
   },
   "source": [
    "# Model "
   ]
  },
  {
   "cell_type": "code",
   "execution_count": 22,
   "id": "ec928856",
   "metadata": {
    "execution": {
     "iopub.execute_input": "2023-12-28T04:16:03.942926Z",
     "iopub.status.busy": "2023-12-28T04:16:03.942637Z",
     "iopub.status.idle": "2023-12-28T04:16:03.972394Z",
     "shell.execute_reply": "2023-12-28T04:16:03.971538Z"
    },
    "papermill": {
     "duration": 0.041499,
     "end_time": "2023-12-28T04:16:03.974353",
     "exception": false,
     "start_time": "2023-12-28T04:16:03.932854",
     "status": "completed"
    },
    "tags": []
   },
   "outputs": [
    {
     "data": {
      "text/html": [
       "<style>#sk-container-id-1 {color: black;background-color: white;}#sk-container-id-1 pre{padding: 0;}#sk-container-id-1 div.sk-toggleable {background-color: white;}#sk-container-id-1 label.sk-toggleable__label {cursor: pointer;display: block;width: 100%;margin-bottom: 0;padding: 0.3em;box-sizing: border-box;text-align: center;}#sk-container-id-1 label.sk-toggleable__label-arrow:before {content: \"▸\";float: left;margin-right: 0.25em;color: #696969;}#sk-container-id-1 label.sk-toggleable__label-arrow:hover:before {color: black;}#sk-container-id-1 div.sk-estimator:hover label.sk-toggleable__label-arrow:before {color: black;}#sk-container-id-1 div.sk-toggleable__content {max-height: 0;max-width: 0;overflow: hidden;text-align: left;background-color: #f0f8ff;}#sk-container-id-1 div.sk-toggleable__content pre {margin: 0.2em;color: black;border-radius: 0.25em;background-color: #f0f8ff;}#sk-container-id-1 input.sk-toggleable__control:checked~div.sk-toggleable__content {max-height: 200px;max-width: 100%;overflow: auto;}#sk-container-id-1 input.sk-toggleable__control:checked~label.sk-toggleable__label-arrow:before {content: \"▾\";}#sk-container-id-1 div.sk-estimator input.sk-toggleable__control:checked~label.sk-toggleable__label {background-color: #d4ebff;}#sk-container-id-1 div.sk-label input.sk-toggleable__control:checked~label.sk-toggleable__label {background-color: #d4ebff;}#sk-container-id-1 input.sk-hidden--visually {border: 0;clip: rect(1px 1px 1px 1px);clip: rect(1px, 1px, 1px, 1px);height: 1px;margin: -1px;overflow: hidden;padding: 0;position: absolute;width: 1px;}#sk-container-id-1 div.sk-estimator {font-family: monospace;background-color: #f0f8ff;border: 1px dotted black;border-radius: 0.25em;box-sizing: border-box;margin-bottom: 0.5em;}#sk-container-id-1 div.sk-estimator:hover {background-color: #d4ebff;}#sk-container-id-1 div.sk-parallel-item::after {content: \"\";width: 100%;border-bottom: 1px solid gray;flex-grow: 1;}#sk-container-id-1 div.sk-label:hover label.sk-toggleable__label {background-color: #d4ebff;}#sk-container-id-1 div.sk-serial::before {content: \"\";position: absolute;border-left: 1px solid gray;box-sizing: border-box;top: 0;bottom: 0;left: 50%;z-index: 0;}#sk-container-id-1 div.sk-serial {display: flex;flex-direction: column;align-items: center;background-color: white;padding-right: 0.2em;padding-left: 0.2em;position: relative;}#sk-container-id-1 div.sk-item {position: relative;z-index: 1;}#sk-container-id-1 div.sk-parallel {display: flex;align-items: stretch;justify-content: center;background-color: white;position: relative;}#sk-container-id-1 div.sk-item::before, #sk-container-id-1 div.sk-parallel-item::before {content: \"\";position: absolute;border-left: 1px solid gray;box-sizing: border-box;top: 0;bottom: 0;left: 50%;z-index: -1;}#sk-container-id-1 div.sk-parallel-item {display: flex;flex-direction: column;z-index: 1;position: relative;background-color: white;}#sk-container-id-1 div.sk-parallel-item:first-child::after {align-self: flex-end;width: 50%;}#sk-container-id-1 div.sk-parallel-item:last-child::after {align-self: flex-start;width: 50%;}#sk-container-id-1 div.sk-parallel-item:only-child::after {width: 0;}#sk-container-id-1 div.sk-dashed-wrapped {border: 1px dashed gray;margin: 0 0.4em 0.5em 0.4em;box-sizing: border-box;padding-bottom: 0.4em;background-color: white;}#sk-container-id-1 div.sk-label label {font-family: monospace;font-weight: bold;display: inline-block;line-height: 1.2em;}#sk-container-id-1 div.sk-label-container {text-align: center;}#sk-container-id-1 div.sk-container {/* jupyter's `normalize.less` sets `[hidden] { display: none; }` but bootstrap.min.css set `[hidden] { display: none !important; }` so we also need the `!important` here to be able to override the default hidden behavior on the sphinx rendered scikit-learn.org. See: https://github.com/scikit-learn/scikit-learn/issues/21755 */display: inline-block !important;position: relative;}#sk-container-id-1 div.sk-text-repr-fallback {display: none;}</style><div id=\"sk-container-id-1\" class=\"sk-top-container\"><div class=\"sk-text-repr-fallback\"><pre>GaussianNB()</pre><b>In a Jupyter environment, please rerun this cell to show the HTML representation or trust the notebook. <br />On GitHub, the HTML representation is unable to render, please try loading this page with nbviewer.org.</b></div><div class=\"sk-container\" hidden><div class=\"sk-item\"><div class=\"sk-estimator sk-toggleable\"><input class=\"sk-toggleable__control sk-hidden--visually\" id=\"sk-estimator-id-1\" type=\"checkbox\" checked><label for=\"sk-estimator-id-1\" class=\"sk-toggleable__label sk-toggleable__label-arrow\">GaussianNB</label><div class=\"sk-toggleable__content\"><pre>GaussianNB()</pre></div></div></div></div></div>"
      ],
      "text/plain": [
       "GaussianNB()"
      ]
     },
     "execution_count": 22,
     "metadata": {},
     "output_type": "execute_result"
    }
   ],
   "source": [
    "from sklearn.naive_bayes import GaussianNB\n",
    "classifier = GaussianNB()\n",
    "classifier.fit(X_train, y_train)"
   ]
  },
  {
   "cell_type": "code",
   "execution_count": 23,
   "id": "b9735672",
   "metadata": {
    "execution": {
     "iopub.execute_input": "2023-12-28T04:16:03.994436Z",
     "iopub.status.busy": "2023-12-28T04:16:03.994162Z",
     "iopub.status.idle": "2023-12-28T04:16:04.023538Z",
     "shell.execute_reply": "2023-12-28T04:16:04.022843Z"
    },
    "papermill": {
     "duration": 0.041735,
     "end_time": "2023-12-28T04:16:04.025617",
     "exception": false,
     "start_time": "2023-12-28T04:16:03.983882",
     "status": "completed"
    },
    "tags": []
   },
   "outputs": [],
   "source": [
    "y_pred = classifier.predict(X_test)\n",
    "\n",
    "# Making the Confusion Matrix\n",
    "from sklearn.metrics import confusion_matrix\n",
    "cm = confusion_matrix(y_test, y_pred)"
   ]
  },
  {
   "cell_type": "code",
   "execution_count": 24,
   "id": "695cdc6b",
   "metadata": {
    "execution": {
     "iopub.execute_input": "2023-12-28T04:16:04.045884Z",
     "iopub.status.busy": "2023-12-28T04:16:04.045601Z",
     "iopub.status.idle": "2023-12-28T04:16:04.051069Z",
     "shell.execute_reply": "2023-12-28T04:16:04.050207Z"
    },
    "papermill": {
     "duration": 0.017739,
     "end_time": "2023-12-28T04:16:04.052982",
     "exception": false,
     "start_time": "2023-12-28T04:16:04.035243",
     "status": "completed"
    },
    "tags": []
   },
   "outputs": [
    {
     "data": {
      "text/plain": [
       "array([[ 544,    8,    2],\n",
       "       [9589,  126,   40],\n",
       "       [2045,   17,   21]])"
      ]
     },
     "execution_count": 24,
     "metadata": {},
     "output_type": "execute_result"
    }
   ],
   "source": [
    "cm"
   ]
  },
  {
   "cell_type": "code",
   "execution_count": null,
   "id": "0b76e75c",
   "metadata": {
    "papermill": {
     "duration": 0.00932,
     "end_time": "2023-12-28T04:16:04.071643",
     "exception": false,
     "start_time": "2023-12-28T04:16:04.062323",
     "status": "completed"
    },
    "tags": []
   },
   "outputs": [],
   "source": []
  }
 ],
 "metadata": {
  "kaggle": {
   "accelerator": "gpu",
   "dataSources": [
    {
     "datasetId": 4096079,
     "sourceId": 7105074,
     "sourceType": "datasetVersion"
    }
   ],
   "dockerImageVersionId": 30627,
   "isGpuEnabled": true,
   "isInternetEnabled": true,
   "language": "python",
   "sourceType": "notebook"
  },
  "kernelspec": {
   "display_name": "Python 3",
   "language": "python",
   "name": "python3"
  },
  "language_info": {
   "codemirror_mode": {
    "name": "ipython",
    "version": 3
   },
   "file_extension": ".py",
   "mimetype": "text/x-python",
   "name": "python",
   "nbconvert_exporter": "python",
   "pygments_lexer": "ipython3",
   "version": "3.10.12"
  },
  "papermill": {
   "default_parameters": {},
   "duration": 75.158852,
   "end_time": "2023-12-28T04:16:05.503007",
   "environment_variables": {},
   "exception": null,
   "input_path": "__notebook__.ipynb",
   "output_path": "__notebook__.ipynb",
   "parameters": {},
   "start_time": "2023-12-28T04:14:50.344155",
   "version": "2.4.0"
  }
 },
 "nbformat": 4,
 "nbformat_minor": 5
}
