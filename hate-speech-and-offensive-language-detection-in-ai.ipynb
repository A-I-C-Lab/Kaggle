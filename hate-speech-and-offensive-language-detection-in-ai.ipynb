{
 "cells": [
  {
   "cell_type": "code",
   "execution_count": 1,
   "id": "8eb755e1",
   "metadata": {
    "_cell_guid": "b1076dfc-b9ad-4769-8c92-a6c4dae69d19",
    "_uuid": "8f2839f25d086af736a60e9eeb907d3b93b6e0e5",
    "execution": {
     "iopub.execute_input": "2023-12-27T18:05:30.512098Z",
     "iopub.status.busy": "2023-12-27T18:05:30.511737Z",
     "iopub.status.idle": "2023-12-27T18:05:31.195879Z",
     "shell.execute_reply": "2023-12-27T18:05:31.194771Z"
    },
    "papermill": {
     "duration": 0.696754,
     "end_time": "2023-12-27T18:05:31.197908",
     "exception": false,
     "start_time": "2023-12-27T18:05:30.501154",
     "status": "completed"
    },
    "tags": []
   },
   "outputs": [
    {
     "name": "stdout",
     "output_type": "stream",
     "text": [
      "/kaggle/input/hate-speech-and-offensive-language-detection/train.csv\n"
     ]
    }
   ],
   "source": [
    "# This Python 3 environment comes with many helpful analytics libraries installed\n",
    "# It is defined by the kaggle/python Docker image: https://github.com/kaggle/docker-python\n",
    "# For example, here's several helpful packages to load\n",
    "\n",
    "import numpy as np # linear algebra\n",
    "import pandas as pd # data processing, CSV file I/O (e.g. pd.read_csv)\n",
    "\n",
    "# Input data files are available in the read-only \"../input/\" directory\n",
    "# For example, running this (by clicking run or pressing Shift+Enter) will list all files under the input directory\n",
    "\n",
    "import os\n",
    "for dirname, _, filenames in os.walk('/kaggle/input'):\n",
    "    for filename in filenames:\n",
    "        print(os.path.join(dirname, filename))\n",
    "\n",
    "# You can write up to 20GB to the current directory (/kaggle/working/) that gets preserved as output when you create a version using \"Save & Run All\" \n",
    "# You can also write temporary files to /kaggle/temp/, but they won't be saved outside of the current session"
   ]
  },
  {
   "cell_type": "code",
   "execution_count": 2,
   "id": "66ada3bb",
   "metadata": {
    "execution": {
     "iopub.execute_input": "2023-12-27T18:05:31.216963Z",
     "iopub.status.busy": "2023-12-27T18:05:31.216528Z",
     "iopub.status.idle": "2023-12-27T18:05:43.838159Z",
     "shell.execute_reply": "2023-12-27T18:05:43.837191Z"
    },
    "papermill": {
     "duration": 12.633682,
     "end_time": "2023-12-27T18:05:43.840623",
     "exception": false,
     "start_time": "2023-12-27T18:05:31.206941",
     "status": "completed"
    },
    "tags": []
   },
   "outputs": [
    {
     "name": "stderr",
     "output_type": "stream",
     "text": [
      "/opt/conda/lib/python3.10/site-packages/scipy/__init__.py:146: UserWarning: A NumPy version >=1.16.5 and <1.23.0 is required for this version of SciPy (detected version 1.24.3\n",
      "  warnings.warn(f\"A NumPy version >={np_minversion} and <{np_maxversion}\"\n"
     ]
    },
    {
     "name": "stdout",
     "output_type": "stream",
     "text": [
      "[nltk_data] Downloading package stopwords to /usr/share/nltk_data...\n",
      "[nltk_data]   Package stopwords is already up-to-date!\n"
     ]
    }
   ],
   "source": [
    "import numpy as np\n",
    "import pandas as pd\n",
    "import tensorflow as tf\n",
    "from tensorflow import keras\n",
    "import re\n",
    "import nltk\n",
    "nltk.download('stopwords')\n",
    "from nltk.corpus import stopwords\n",
    "from nltk.stem.porter import PorterStemmer\n",
    "import datetime\n",
    "import os\n",
    "from keras import models\n",
    "from keras import layers"
   ]
  },
  {
   "cell_type": "code",
   "execution_count": 3,
   "id": "120ecd9b",
   "metadata": {
    "execution": {
     "iopub.execute_input": "2023-12-27T18:05:43.860109Z",
     "iopub.status.busy": "2023-12-27T18:05:43.859479Z",
     "iopub.status.idle": "2023-12-27T18:05:43.942591Z",
     "shell.execute_reply": "2023-12-27T18:05:43.941794Z"
    },
    "papermill": {
     "duration": 0.095202,
     "end_time": "2023-12-27T18:05:43.944919",
     "exception": false,
     "start_time": "2023-12-27T18:05:43.849717",
     "status": "completed"
    },
    "tags": []
   },
   "outputs": [],
   "source": [
    "dataset=pd.read_csv(\"/kaggle/input/hate-speech-and-offensive-language-detection/train.csv\")"
   ]
  },
  {
   "cell_type": "code",
   "execution_count": 4,
   "id": "7670bb8c",
   "metadata": {
    "execution": {
     "iopub.execute_input": "2023-12-27T18:05:43.964082Z",
     "iopub.status.busy": "2023-12-27T18:05:43.963765Z",
     "iopub.status.idle": "2023-12-27T18:05:43.982063Z",
     "shell.execute_reply": "2023-12-27T18:05:43.981172Z"
    },
    "papermill": {
     "duration": 0.030088,
     "end_time": "2023-12-27T18:05:43.984079",
     "exception": false,
     "start_time": "2023-12-27T18:05:43.953991",
     "status": "completed"
    },
    "tags": []
   },
   "outputs": [
    {
     "data": {
      "text/html": [
       "<div>\n",
       "<style scoped>\n",
       "    .dataframe tbody tr th:only-of-type {\n",
       "        vertical-align: middle;\n",
       "    }\n",
       "\n",
       "    .dataframe tbody tr th {\n",
       "        vertical-align: top;\n",
       "    }\n",
       "\n",
       "    .dataframe thead th {\n",
       "        text-align: right;\n",
       "    }\n",
       "</style>\n",
       "<table border=\"1\" class=\"dataframe\">\n",
       "  <thead>\n",
       "    <tr style=\"text-align: right;\">\n",
       "      <th></th>\n",
       "      <th>count</th>\n",
       "      <th>hate_speech_count</th>\n",
       "      <th>offensive_language_count</th>\n",
       "      <th>neither_count</th>\n",
       "      <th>class</th>\n",
       "      <th>tweet</th>\n",
       "    </tr>\n",
       "  </thead>\n",
       "  <tbody>\n",
       "    <tr>\n",
       "      <th>0</th>\n",
       "      <td>3</td>\n",
       "      <td>0</td>\n",
       "      <td>0</td>\n",
       "      <td>3</td>\n",
       "      <td>2</td>\n",
       "      <td>!!! RT @mayasolovely: As a woman you shouldn't...</td>\n",
       "    </tr>\n",
       "    <tr>\n",
       "      <th>1</th>\n",
       "      <td>3</td>\n",
       "      <td>0</td>\n",
       "      <td>3</td>\n",
       "      <td>0</td>\n",
       "      <td>1</td>\n",
       "      <td>!!!!! RT @mleew17: boy dats cold...tyga dwn ba...</td>\n",
       "    </tr>\n",
       "    <tr>\n",
       "      <th>2</th>\n",
       "      <td>3</td>\n",
       "      <td>0</td>\n",
       "      <td>3</td>\n",
       "      <td>0</td>\n",
       "      <td>1</td>\n",
       "      <td>!!!!!!! RT @UrKindOfBrand Dawg!!!! RT @80sbaby...</td>\n",
       "    </tr>\n",
       "    <tr>\n",
       "      <th>3</th>\n",
       "      <td>3</td>\n",
       "      <td>0</td>\n",
       "      <td>2</td>\n",
       "      <td>1</td>\n",
       "      <td>1</td>\n",
       "      <td>!!!!!!!!! RT @C_G_Anderson: @viva_based she lo...</td>\n",
       "    </tr>\n",
       "    <tr>\n",
       "      <th>4</th>\n",
       "      <td>6</td>\n",
       "      <td>0</td>\n",
       "      <td>6</td>\n",
       "      <td>0</td>\n",
       "      <td>1</td>\n",
       "      <td>!!!!!!!!!!!!! RT @ShenikaRoberts: The shit you...</td>\n",
       "    </tr>\n",
       "    <tr>\n",
       "      <th>5</th>\n",
       "      <td>3</td>\n",
       "      <td>1</td>\n",
       "      <td>2</td>\n",
       "      <td>0</td>\n",
       "      <td>1</td>\n",
       "      <td>!!!!!!!!!!!!!!!!!!\"@T_Madison_x: The shit just...</td>\n",
       "    </tr>\n",
       "    <tr>\n",
       "      <th>6</th>\n",
       "      <td>3</td>\n",
       "      <td>0</td>\n",
       "      <td>3</td>\n",
       "      <td>0</td>\n",
       "      <td>1</td>\n",
       "      <td>!!!!!!\"@__BrighterDays: I can not just sit up ...</td>\n",
       "    </tr>\n",
       "    <tr>\n",
       "      <th>7</th>\n",
       "      <td>3</td>\n",
       "      <td>0</td>\n",
       "      <td>3</td>\n",
       "      <td>0</td>\n",
       "      <td>1</td>\n",
       "      <td>!!!!&amp;#8220;@selfiequeenbri: cause I'm tired of...</td>\n",
       "    </tr>\n",
       "    <tr>\n",
       "      <th>8</th>\n",
       "      <td>3</td>\n",
       "      <td>0</td>\n",
       "      <td>3</td>\n",
       "      <td>0</td>\n",
       "      <td>1</td>\n",
       "      <td>\" &amp;amp; you might not get ya bitch back &amp;amp; ...</td>\n",
       "    </tr>\n",
       "    <tr>\n",
       "      <th>9</th>\n",
       "      <td>3</td>\n",
       "      <td>1</td>\n",
       "      <td>2</td>\n",
       "      <td>0</td>\n",
       "      <td>1</td>\n",
       "      <td>\" @rhythmixx_ :hobbies include: fighting Maria...</td>\n",
       "    </tr>\n",
       "    <tr>\n",
       "      <th>10</th>\n",
       "      <td>3</td>\n",
       "      <td>0</td>\n",
       "      <td>3</td>\n",
       "      <td>0</td>\n",
       "      <td>1</td>\n",
       "      <td>\" Keeks is a bitch she curves everyone \" lol I...</td>\n",
       "    </tr>\n",
       "    <tr>\n",
       "      <th>11</th>\n",
       "      <td>3</td>\n",
       "      <td>0</td>\n",
       "      <td>3</td>\n",
       "      <td>0</td>\n",
       "      <td>1</td>\n",
       "      <td>\" Murda Gang bitch its Gang Land \"</td>\n",
       "    </tr>\n",
       "    <tr>\n",
       "      <th>12</th>\n",
       "      <td>3</td>\n",
       "      <td>0</td>\n",
       "      <td>2</td>\n",
       "      <td>1</td>\n",
       "      <td>1</td>\n",
       "      <td>\" So hoes that smoke are losers ? \" yea ... go...</td>\n",
       "    </tr>\n",
       "    <tr>\n",
       "      <th>13</th>\n",
       "      <td>3</td>\n",
       "      <td>0</td>\n",
       "      <td>3</td>\n",
       "      <td>0</td>\n",
       "      <td>1</td>\n",
       "      <td>\" bad bitches is the only thing that i like \"</td>\n",
       "    </tr>\n",
       "    <tr>\n",
       "      <th>14</th>\n",
       "      <td>3</td>\n",
       "      <td>1</td>\n",
       "      <td>2</td>\n",
       "      <td>0</td>\n",
       "      <td>1</td>\n",
       "      <td>\" bitch get up off me \"</td>\n",
       "    </tr>\n",
       "  </tbody>\n",
       "</table>\n",
       "</div>"
      ],
      "text/plain": [
       "    count  hate_speech_count  offensive_language_count  neither_count  class  \\\n",
       "0       3                  0                         0              3      2   \n",
       "1       3                  0                         3              0      1   \n",
       "2       3                  0                         3              0      1   \n",
       "3       3                  0                         2              1      1   \n",
       "4       6                  0                         6              0      1   \n",
       "5       3                  1                         2              0      1   \n",
       "6       3                  0                         3              0      1   \n",
       "7       3                  0                         3              0      1   \n",
       "8       3                  0                         3              0      1   \n",
       "9       3                  1                         2              0      1   \n",
       "10      3                  0                         3              0      1   \n",
       "11      3                  0                         3              0      1   \n",
       "12      3                  0                         2              1      1   \n",
       "13      3                  0                         3              0      1   \n",
       "14      3                  1                         2              0      1   \n",
       "\n",
       "                                                tweet  \n",
       "0   !!! RT @mayasolovely: As a woman you shouldn't...  \n",
       "1   !!!!! RT @mleew17: boy dats cold...tyga dwn ba...  \n",
       "2   !!!!!!! RT @UrKindOfBrand Dawg!!!! RT @80sbaby...  \n",
       "3   !!!!!!!!! RT @C_G_Anderson: @viva_based she lo...  \n",
       "4   !!!!!!!!!!!!! RT @ShenikaRoberts: The shit you...  \n",
       "5   !!!!!!!!!!!!!!!!!!\"@T_Madison_x: The shit just...  \n",
       "6   !!!!!!\"@__BrighterDays: I can not just sit up ...  \n",
       "7   !!!!&#8220;@selfiequeenbri: cause I'm tired of...  \n",
       "8   \" &amp; you might not get ya bitch back &amp; ...  \n",
       "9   \" @rhythmixx_ :hobbies include: fighting Maria...  \n",
       "10  \" Keeks is a bitch she curves everyone \" lol I...  \n",
       "11                 \" Murda Gang bitch its Gang Land \"  \n",
       "12  \" So hoes that smoke are losers ? \" yea ... go...  \n",
       "13      \" bad bitches is the only thing that i like \"  \n",
       "14                            \" bitch get up off me \"  "
      ]
     },
     "execution_count": 4,
     "metadata": {},
     "output_type": "execute_result"
    }
   ],
   "source": [
    "dataset.head(15)"
   ]
  },
  {
   "cell_type": "code",
   "execution_count": 5,
   "id": "7b612e2c",
   "metadata": {
    "execution": {
     "iopub.execute_input": "2023-12-27T18:05:44.003449Z",
     "iopub.status.busy": "2023-12-27T18:05:44.003158Z",
     "iopub.status.idle": "2023-12-27T18:05:44.019879Z",
     "shell.execute_reply": "2023-12-27T18:05:44.018951Z"
    },
    "papermill": {
     "duration": 0.028609,
     "end_time": "2023-12-27T18:05:44.021781",
     "exception": false,
     "start_time": "2023-12-27T18:05:43.993172",
     "status": "completed"
    },
    "tags": []
   },
   "outputs": [
    {
     "data": {
      "text/html": [
       "<div>\n",
       "<style scoped>\n",
       "    .dataframe tbody tr th:only-of-type {\n",
       "        vertical-align: middle;\n",
       "    }\n",
       "\n",
       "    .dataframe tbody tr th {\n",
       "        vertical-align: top;\n",
       "    }\n",
       "\n",
       "    .dataframe thead th {\n",
       "        text-align: right;\n",
       "    }\n",
       "</style>\n",
       "<table border=\"1\" class=\"dataframe\">\n",
       "  <thead>\n",
       "    <tr style=\"text-align: right;\">\n",
       "      <th></th>\n",
       "      <th>class</th>\n",
       "      <th>tweet</th>\n",
       "    </tr>\n",
       "  </thead>\n",
       "  <tbody>\n",
       "    <tr>\n",
       "      <th>0</th>\n",
       "      <td>2</td>\n",
       "      <td>!!! RT @mayasolovely: As a woman you shouldn't...</td>\n",
       "    </tr>\n",
       "    <tr>\n",
       "      <th>1</th>\n",
       "      <td>1</td>\n",
       "      <td>!!!!! RT @mleew17: boy dats cold...tyga dwn ba...</td>\n",
       "    </tr>\n",
       "    <tr>\n",
       "      <th>2</th>\n",
       "      <td>1</td>\n",
       "      <td>!!!!!!! RT @UrKindOfBrand Dawg!!!! RT @80sbaby...</td>\n",
       "    </tr>\n",
       "    <tr>\n",
       "      <th>3</th>\n",
       "      <td>1</td>\n",
       "      <td>!!!!!!!!! RT @C_G_Anderson: @viva_based she lo...</td>\n",
       "    </tr>\n",
       "    <tr>\n",
       "      <th>4</th>\n",
       "      <td>1</td>\n",
       "      <td>!!!!!!!!!!!!! RT @ShenikaRoberts: The shit you...</td>\n",
       "    </tr>\n",
       "    <tr>\n",
       "      <th>5</th>\n",
       "      <td>1</td>\n",
       "      <td>!!!!!!!!!!!!!!!!!!\"@T_Madison_x: The shit just...</td>\n",
       "    </tr>\n",
       "    <tr>\n",
       "      <th>6</th>\n",
       "      <td>1</td>\n",
       "      <td>!!!!!!\"@__BrighterDays: I can not just sit up ...</td>\n",
       "    </tr>\n",
       "    <tr>\n",
       "      <th>7</th>\n",
       "      <td>1</td>\n",
       "      <td>!!!!&amp;#8220;@selfiequeenbri: cause I'm tired of...</td>\n",
       "    </tr>\n",
       "    <tr>\n",
       "      <th>8</th>\n",
       "      <td>1</td>\n",
       "      <td>\" &amp;amp; you might not get ya bitch back &amp;amp; ...</td>\n",
       "    </tr>\n",
       "    <tr>\n",
       "      <th>9</th>\n",
       "      <td>1</td>\n",
       "      <td>\" @rhythmixx_ :hobbies include: fighting Maria...</td>\n",
       "    </tr>\n",
       "  </tbody>\n",
       "</table>\n",
       "</div>"
      ],
      "text/plain": [
       "   class                                              tweet\n",
       "0      2  !!! RT @mayasolovely: As a woman you shouldn't...\n",
       "1      1  !!!!! RT @mleew17: boy dats cold...tyga dwn ba...\n",
       "2      1  !!!!!!! RT @UrKindOfBrand Dawg!!!! RT @80sbaby...\n",
       "3      1  !!!!!!!!! RT @C_G_Anderson: @viva_based she lo...\n",
       "4      1  !!!!!!!!!!!!! RT @ShenikaRoberts: The shit you...\n",
       "5      1  !!!!!!!!!!!!!!!!!!\"@T_Madison_x: The shit just...\n",
       "6      1  !!!!!!\"@__BrighterDays: I can not just sit up ...\n",
       "7      1  !!!!&#8220;@selfiequeenbri: cause I'm tired of...\n",
       "8      1  \" &amp; you might not get ya bitch back &amp; ...\n",
       "9      1  \" @rhythmixx_ :hobbies include: fighting Maria..."
      ]
     },
     "execution_count": 5,
     "metadata": {},
     "output_type": "execute_result"
    }
   ],
   "source": [
    "dataset[[\"class\",\"tweet\"]].head(10)"
   ]
  },
  {
   "cell_type": "code",
   "execution_count": 6,
   "id": "176bccb9",
   "metadata": {
    "execution": {
     "iopub.execute_input": "2023-12-27T18:05:44.041563Z",
     "iopub.status.busy": "2023-12-27T18:05:44.041292Z",
     "iopub.status.idle": "2023-12-27T18:05:44.045308Z",
     "shell.execute_reply": "2023-12-27T18:05:44.044592Z"
    },
    "papermill": {
     "duration": 0.016114,
     "end_time": "2023-12-27T18:05:44.047247",
     "exception": false,
     "start_time": "2023-12-27T18:05:44.031133",
     "status": "completed"
    },
    "tags": []
   },
   "outputs": [],
   "source": [
    "label=np.asarray(dataset[\"class\"])"
   ]
  },
  {
   "cell_type": "code",
   "execution_count": 7,
   "id": "7d81f9f4",
   "metadata": {
    "execution": {
     "iopub.execute_input": "2023-12-27T18:05:44.066720Z",
     "iopub.status.busy": "2023-12-27T18:05:44.066443Z",
     "iopub.status.idle": "2023-12-27T18:05:44.071914Z",
     "shell.execute_reply": "2023-12-27T18:05:44.071124Z"
    },
    "papermill": {
     "duration": 0.01712,
     "end_time": "2023-12-27T18:05:44.073646",
     "exception": false,
     "start_time": "2023-12-27T18:05:44.056526",
     "status": "completed"
    },
    "tags": []
   },
   "outputs": [
    {
     "data": {
      "text/plain": [
       "array([2, 1, 1, ..., 1, 1, 2])"
      ]
     },
     "execution_count": 7,
     "metadata": {},
     "output_type": "execute_result"
    }
   ],
   "source": [
    "label"
   ]
  },
  {
   "cell_type": "code",
   "execution_count": 8,
   "id": "3d96ba88",
   "metadata": {
    "execution": {
     "iopub.execute_input": "2023-12-27T18:05:44.093470Z",
     "iopub.status.busy": "2023-12-27T18:05:44.093201Z",
     "iopub.status.idle": "2023-12-27T18:05:44.101196Z",
     "shell.execute_reply": "2023-12-27T18:05:44.100362Z"
    },
    "papermill": {
     "duration": 0.020293,
     "end_time": "2023-12-27T18:05:44.103463",
     "exception": false,
     "start_time": "2023-12-27T18:05:44.083170",
     "status": "completed"
    },
    "tags": []
   },
   "outputs": [
    {
     "name": "stdout",
     "output_type": "stream",
     "text": [
      "Shape of Dataset (24783, 6)\n",
      "-------------------------------------------------\n",
      "Total Tweets 24783 and Classes [2 1 0]\n",
      "-------------------------------------------------\n"
     ]
    }
   ],
   "source": [
    "dash_line=\"-\".join(\"\" for x in range(50))\n",
    "print(f\"Shape of Dataset {dataset.shape}\")\n",
    "print(dash_line)\n",
    "print(f\"Total Tweets {len(dataset['tweet'])} and Classes {dataset['class'].unique()}\")\n",
    "print(dash_line)"
   ]
  },
  {
   "cell_type": "markdown",
   "id": "ea87f50c",
   "metadata": {
    "papermill": {
     "duration": 0.009373,
     "end_time": "2023-12-27T18:05:44.122365",
     "exception": false,
     "start_time": "2023-12-27T18:05:44.112992",
     "status": "completed"
    },
    "tags": []
   },
   "source": [
    "# Cleaning unrelated charactor form texts"
   ]
  },
  {
   "cell_type": "code",
   "execution_count": 9,
   "id": "438a0580",
   "metadata": {
    "execution": {
     "iopub.execute_input": "2023-12-27T18:05:44.142234Z",
     "iopub.status.busy": "2023-12-27T18:05:44.141971Z",
     "iopub.status.idle": "2023-12-27T18:06:39.882419Z",
     "shell.execute_reply": "2023-12-27T18:06:39.881472Z"
    },
    "papermill": {
     "duration": 55.753142,
     "end_time": "2023-12-27T18:06:39.884854",
     "exception": false,
     "start_time": "2023-12-27T18:05:44.131712",
     "status": "completed"
    },
    "tags": []
   },
   "outputs": [],
   "source": [
    "corpus = []\n",
    "for i in range(0, 24783):\n",
    "    review = re.sub('[^a-zA-Z]', ' ', dataset['tweet'][i])\n",
    "    review = review.lower()\n",
    "    review = review.split()\n",
    "    ps = PorterStemmer()\n",
    "    review = [ps.stem(word) for word in review if not word in set(stopwords.words('english'))]\n",
    "    review = ' '.join(review)\n",
    "    corpus.append(review)"
   ]
  },
  {
   "cell_type": "code",
   "execution_count": 10,
   "id": "1b1d9c7c",
   "metadata": {
    "execution": {
     "iopub.execute_input": "2023-12-27T18:06:39.906193Z",
     "iopub.status.busy": "2023-12-27T18:06:39.905690Z",
     "iopub.status.idle": "2023-12-27T18:06:39.911699Z",
     "shell.execute_reply": "2023-12-27T18:06:39.910606Z"
    },
    "papermill": {
     "duration": 0.018339,
     "end_time": "2023-12-27T18:06:39.913650",
     "exception": false,
     "start_time": "2023-12-27T18:06:39.895311",
     "status": "completed"
    },
    "tags": []
   },
   "outputs": [
    {
     "data": {
      "text/plain": [
       "['rt mayasolov woman complain clean hous amp man alway take trash',\n",
       " 'rt mleew boy dat cold tyga dwn bad cuffin dat hoe st place',\n",
       " 'rt urkindofbrand dawg rt sbabi life ever fuck bitch start cri confus shit',\n",
       " 'rt c g anderson viva base look like tranni',\n",
       " 'rt shenikarobert shit hear might true might faker bitch told ya',\n",
       " 'madison x shit blow claim faith somebodi still fuck hoe',\n",
       " 'brighterday sit hate anoth bitch got much shit go',\n",
       " 'selfiequeenbri caus tire big bitch come us skinni girl',\n",
       " 'amp might get ya bitch back amp that',\n",
       " 'rhythmixx hobbi includ fight mariam bitch']"
      ]
     },
     "execution_count": 10,
     "metadata": {},
     "output_type": "execute_result"
    }
   ],
   "source": [
    "corpus[:10]"
   ]
  },
  {
   "cell_type": "markdown",
   "id": "f77b73bd",
   "metadata": {
    "papermill": {
     "duration": 0.009418,
     "end_time": "2023-12-27T18:06:39.932673",
     "exception": false,
     "start_time": "2023-12-27T18:06:39.923255",
     "status": "completed"
    },
    "tags": []
   },
   "source": [
    "# Cleaning & Converting text  into sequence "
   ]
  },
  {
   "cell_type": "code",
   "execution_count": 11,
   "id": "4c075fec",
   "metadata": {
    "execution": {
     "iopub.execute_input": "2023-12-27T18:06:39.953160Z",
     "iopub.status.busy": "2023-12-27T18:06:39.952554Z",
     "iopub.status.idle": "2023-12-27T18:06:39.956643Z",
     "shell.execute_reply": "2023-12-27T18:06:39.955847Z"
    },
    "papermill": {
     "duration": 0.016219,
     "end_time": "2023-12-27T18:06:39.958437",
     "exception": false,
     "start_time": "2023-12-27T18:06:39.942218",
     "status": "completed"
    },
    "tags": []
   },
   "outputs": [],
   "source": [
    "from keras.preprocessing.text import Tokenizer\n",
    "from keras.preprocessing.sequence import pad_sequences"
   ]
  },
  {
   "cell_type": "code",
   "execution_count": 12,
   "id": "faa0da41",
   "metadata": {
    "execution": {
     "iopub.execute_input": "2023-12-27T18:06:39.979401Z",
     "iopub.status.busy": "2023-12-27T18:06:39.978614Z",
     "iopub.status.idle": "2023-12-27T18:06:39.982498Z",
     "shell.execute_reply": "2023-12-27T18:06:39.981829Z"
    },
    "papermill": {
     "duration": 0.016195,
     "end_time": "2023-12-27T18:06:39.984338",
     "exception": false,
     "start_time": "2023-12-27T18:06:39.968143",
     "status": "completed"
    },
    "tags": []
   },
   "outputs": [],
   "source": [
    "max_word=1000\n",
    "tokenizer=Tokenizer(num_words=max_word)"
   ]
  },
  {
   "cell_type": "code",
   "execution_count": 13,
   "id": "7c85a16a",
   "metadata": {
    "execution": {
     "iopub.execute_input": "2023-12-27T18:06:40.004730Z",
     "iopub.status.busy": "2023-12-27T18:06:40.004246Z",
     "iopub.status.idle": "2023-12-27T18:06:40.439665Z",
     "shell.execute_reply": "2023-12-27T18:06:40.438700Z"
    },
    "papermill": {
     "duration": 0.44819,
     "end_time": "2023-12-27T18:06:40.442066",
     "exception": false,
     "start_time": "2023-12-27T18:06:39.993876",
     "status": "completed"
    },
    "tags": []
   },
   "outputs": [],
   "source": [
    "tokenizer.fit_on_texts(corpus)"
   ]
  },
  {
   "cell_type": "code",
   "execution_count": 14,
   "id": "dce60581",
   "metadata": {
    "execution": {
     "iopub.execute_input": "2023-12-27T18:06:40.463562Z",
     "iopub.status.busy": "2023-12-27T18:06:40.463003Z",
     "iopub.status.idle": "2023-12-27T18:06:40.799101Z",
     "shell.execute_reply": "2023-12-27T18:06:40.798080Z"
    },
    "papermill": {
     "duration": 0.349069,
     "end_time": "2023-12-27T18:06:40.801459",
     "exception": false,
     "start_time": "2023-12-27T18:06:40.452390",
     "status": "completed"
    },
    "tags": []
   },
   "outputs": [],
   "source": [
    "sequences=tokenizer.texts_to_sequences(corpus)"
   ]
  },
  {
   "cell_type": "code",
   "execution_count": 15,
   "id": "0bb4b1a3",
   "metadata": {
    "execution": {
     "iopub.execute_input": "2023-12-27T18:06:40.823104Z",
     "iopub.status.busy": "2023-12-27T18:06:40.822529Z",
     "iopub.status.idle": "2023-12-27T18:06:40.830097Z",
     "shell.execute_reply": "2023-12-27T18:06:40.829255Z"
    },
    "papermill": {
     "duration": 0.02032,
     "end_time": "2023-12-27T18:06:40.832015",
     "exception": false,
     "start_time": "2023-12-27T18:06:40.811695",
     "status": "completed"
    },
    "tags": []
   },
   "outputs": [
    {
     "data": {
      "text/plain": [
       "[[2, 277, 613, 546, 217, 17, 31, 92, 56, 15],\n",
       " [2, 94, 76, 445, 32, 76, 3, 417, 405],\n",
       " [2, 654, 2, 939, 65, 98, 8, 1, 123, 245, 806, 13],\n",
       " [2, 221, 211, 709, 21, 6, 528],\n",
       " [2, 13, 369, 251, 435, 251, 1, 196, 41],\n",
       " [186, 13, 579, 614, 940, 414, 42, 8, 3],\n",
       " [332, 37, 173, 1, 14, 126, 13, 18],\n",
       " [81, 427, 108, 1, 47, 163, 580, 25],\n",
       " [17, 251, 10, 41, 1, 43, 17, 190],\n",
       " [198, 1]]"
      ]
     },
     "execution_count": 15,
     "metadata": {},
     "output_type": "execute_result"
    }
   ],
   "source": [
    "sequences[:10]"
   ]
  },
  {
   "cell_type": "code",
   "execution_count": 16,
   "id": "9b7b024d",
   "metadata": {
    "execution": {
     "iopub.execute_input": "2023-12-27T18:06:40.853278Z",
     "iopub.status.busy": "2023-12-27T18:06:40.852982Z",
     "iopub.status.idle": "2023-12-27T18:06:40.952592Z",
     "shell.execute_reply": "2023-12-27T18:06:40.951815Z"
    },
    "papermill": {
     "duration": 0.112781,
     "end_time": "2023-12-27T18:06:40.954738",
     "exception": false,
     "start_time": "2023-12-27T18:06:40.841957",
     "status": "completed"
    },
    "tags": []
   },
   "outputs": [],
   "source": [
    "max_len=100\n",
    "data = pad_sequences(sequences,maxlen=max_len)"
   ]
  },
  {
   "cell_type": "code",
   "execution_count": 17,
   "id": "62ca5956",
   "metadata": {
    "execution": {
     "iopub.execute_input": "2023-12-27T18:06:40.975821Z",
     "iopub.status.busy": "2023-12-27T18:06:40.975513Z",
     "iopub.status.idle": "2023-12-27T18:06:40.983492Z",
     "shell.execute_reply": "2023-12-27T18:06:40.982524Z"
    },
    "papermill": {
     "duration": 0.020453,
     "end_time": "2023-12-27T18:06:40.985368",
     "exception": false,
     "start_time": "2023-12-27T18:06:40.964915",
     "status": "completed"
    },
    "tags": []
   },
   "outputs": [
    {
     "data": {
      "text/plain": [
       "array([[  0,   0,   0,   0,   0,   0,   0,   0,   0,   0,   0,   0,   0,\n",
       "          0,   0,   0,   0,   0,   0,   0,   0,   0,   0,   0,   0,   0,\n",
       "          0,   0,   0,   0,   0,   0,   0,   0,   0,   0,   0,   0,   0,\n",
       "          0,   0,   0,   0,   0,   0,   0,   0,   0,   0,   0,   0,   0,\n",
       "          0,   0,   0,   0,   0,   0,   0,   0,   0,   0,   0,   0,   0,\n",
       "          0,   0,   0,   0,   0,   0,   0,   0,   0,   0,   0,   0,   0,\n",
       "          0,   0,   0,   0,   0,   0,   0,   0,   0,   0,   0,   0,   2,\n",
       "        277, 613, 546, 217,  17,  31,  92,  56,  15],\n",
       "       [  0,   0,   0,   0,   0,   0,   0,   0,   0,   0,   0,   0,   0,\n",
       "          0,   0,   0,   0,   0,   0,   0,   0,   0,   0,   0,   0,   0,\n",
       "          0,   0,   0,   0,   0,   0,   0,   0,   0,   0,   0,   0,   0,\n",
       "          0,   0,   0,   0,   0,   0,   0,   0,   0,   0,   0,   0,   0,\n",
       "          0,   0,   0,   0,   0,   0,   0,   0,   0,   0,   0,   0,   0,\n",
       "          0,   0,   0,   0,   0,   0,   0,   0,   0,   0,   0,   0,   0,\n",
       "          0,   0,   0,   0,   0,   0,   0,   0,   0,   0,   0,   0,   0,\n",
       "          2,  94,  76, 445,  32,  76,   3, 417, 405],\n",
       "       [  0,   0,   0,   0,   0,   0,   0,   0,   0,   0,   0,   0,   0,\n",
       "          0,   0,   0,   0,   0,   0,   0,   0,   0,   0,   0,   0,   0,\n",
       "          0,   0,   0,   0,   0,   0,   0,   0,   0,   0,   0,   0,   0,\n",
       "          0,   0,   0,   0,   0,   0,   0,   0,   0,   0,   0,   0,   0,\n",
       "          0,   0,   0,   0,   0,   0,   0,   0,   0,   0,   0,   0,   0,\n",
       "          0,   0,   0,   0,   0,   0,   0,   0,   0,   0,   0,   0,   0,\n",
       "          0,   0,   0,   0,   0,   0,   0,   0,   0,   0,   2, 654,   2,\n",
       "        939,  65,  98,   8,   1, 123, 245, 806,  13],\n",
       "       [  0,   0,   0,   0,   0,   0,   0,   0,   0,   0,   0,   0,   0,\n",
       "          0,   0,   0,   0,   0,   0,   0,   0,   0,   0,   0,   0,   0,\n",
       "          0,   0,   0,   0,   0,   0,   0,   0,   0,   0,   0,   0,   0,\n",
       "          0,   0,   0,   0,   0,   0,   0,   0,   0,   0,   0,   0,   0,\n",
       "          0,   0,   0,   0,   0,   0,   0,   0,   0,   0,   0,   0,   0,\n",
       "          0,   0,   0,   0,   0,   0,   0,   0,   0,   0,   0,   0,   0,\n",
       "          0,   0,   0,   0,   0,   0,   0,   0,   0,   0,   0,   0,   0,\n",
       "          0,   0,   2, 221, 211, 709,  21,   6, 528],\n",
       "       [  0,   0,   0,   0,   0,   0,   0,   0,   0,   0,   0,   0,   0,\n",
       "          0,   0,   0,   0,   0,   0,   0,   0,   0,   0,   0,   0,   0,\n",
       "          0,   0,   0,   0,   0,   0,   0,   0,   0,   0,   0,   0,   0,\n",
       "          0,   0,   0,   0,   0,   0,   0,   0,   0,   0,   0,   0,   0,\n",
       "          0,   0,   0,   0,   0,   0,   0,   0,   0,   0,   0,   0,   0,\n",
       "          0,   0,   0,   0,   0,   0,   0,   0,   0,   0,   0,   0,   0,\n",
       "          0,   0,   0,   0,   0,   0,   0,   0,   0,   0,   0,   0,   0,\n",
       "          2,  13, 369, 251, 435, 251,   1, 196,  41]], dtype=int32)"
      ]
     },
     "execution_count": 17,
     "metadata": {},
     "output_type": "execute_result"
    }
   ],
   "source": [
    "data[:5]"
   ]
  },
  {
   "cell_type": "code",
   "execution_count": 18,
   "id": "909c4a0b",
   "metadata": {
    "execution": {
     "iopub.execute_input": "2023-12-27T18:06:41.006152Z",
     "iopub.status.busy": "2023-12-27T18:06:41.005892Z",
     "iopub.status.idle": "2023-12-27T18:06:41.012685Z",
     "shell.execute_reply": "2023-12-27T18:06:41.011922Z"
    },
    "papermill": {
     "duration": 0.020061,
     "end_time": "2023-12-27T18:06:41.015269",
     "exception": false,
     "start_time": "2023-12-27T18:06:40.995208",
     "status": "completed"
    },
    "tags": []
   },
   "outputs": [
    {
     "name": "stdout",
     "output_type": "stream",
     "text": [
      "Data 0\n",
      "Original Text:\n",
      " rt mayasolov woman complain clean hous amp man alway take trash \n",
      " \n",
      "\n",
      "Sequence:\n",
      "[2, 277, 613, 546, 217, 17, 31, 92, 56, 15] \n",
      " \n",
      "\n",
      "Tensor:\n",
      " [  0   0   0   0   0   0   0   0   0   0   0   0   0   0   0   0   0   0\n",
      "   0   0   0   0   0   0   0   0   0   0   0   0   0   0   0   0   0   0\n",
      "   0   0   0   0   0   0   0   0   0   0   0   0   0   0   0   0   0   0\n",
      "   0   0   0   0   0   0   0   0   0   0   0   0   0   0   0   0   0   0\n",
      "   0   0   0   0   0   0   0   0   0   0   0   0   0   0   0   0   0   0\n",
      "   2 277 613 546 217  17  31  92  56  15] \n",
      " \n",
      "\n",
      "Data 1\n",
      "Original Text:\n",
      " rt mleew boy dat cold tyga dwn bad cuffin dat hoe st place \n",
      " \n",
      "\n",
      "Sequence:\n",
      "[2, 94, 76, 445, 32, 76, 3, 417, 405] \n",
      " \n",
      "\n",
      "Tensor:\n",
      " [  0   0   0   0   0   0   0   0   0   0   0   0   0   0   0   0   0   0\n",
      "   0   0   0   0   0   0   0   0   0   0   0   0   0   0   0   0   0   0\n",
      "   0   0   0   0   0   0   0   0   0   0   0   0   0   0   0   0   0   0\n",
      "   0   0   0   0   0   0   0   0   0   0   0   0   0   0   0   0   0   0\n",
      "   0   0   0   0   0   0   0   0   0   0   0   0   0   0   0   0   0   0\n",
      "   0   2  94  76 445  32  76   3 417 405] \n",
      " \n",
      "\n",
      "Data 2\n",
      "Original Text:\n",
      " rt urkindofbrand dawg rt sbabi life ever fuck bitch start cri confus shit \n",
      " \n",
      "\n",
      "Sequence:\n",
      "[2, 654, 2, 939, 65, 98, 8, 1, 123, 245, 806, 13] \n",
      " \n",
      "\n",
      "Tensor:\n",
      " [  0   0   0   0   0   0   0   0   0   0   0   0   0   0   0   0   0   0\n",
      "   0   0   0   0   0   0   0   0   0   0   0   0   0   0   0   0   0   0\n",
      "   0   0   0   0   0   0   0   0   0   0   0   0   0   0   0   0   0   0\n",
      "   0   0   0   0   0   0   0   0   0   0   0   0   0   0   0   0   0   0\n",
      "   0   0   0   0   0   0   0   0   0   0   0   0   0   0   0   0   2 654\n",
      "   2 939  65  98   8   1 123 245 806  13] \n",
      " \n",
      "\n",
      "Data 3\n",
      "Original Text:\n",
      " rt c g anderson viva base look like tranni \n",
      " \n",
      "\n",
      "Sequence:\n",
      "[2, 221, 211, 709, 21, 6, 528] \n",
      " \n",
      "\n",
      "Tensor:\n",
      " [  0   0   0   0   0   0   0   0   0   0   0   0   0   0   0   0   0   0\n",
      "   0   0   0   0   0   0   0   0   0   0   0   0   0   0   0   0   0   0\n",
      "   0   0   0   0   0   0   0   0   0   0   0   0   0   0   0   0   0   0\n",
      "   0   0   0   0   0   0   0   0   0   0   0   0   0   0   0   0   0   0\n",
      "   0   0   0   0   0   0   0   0   0   0   0   0   0   0   0   0   0   0\n",
      "   0   0   0   2 221 211 709  21   6 528] \n",
      " \n",
      "\n",
      "Data 4\n",
      "Original Text:\n",
      " rt shenikarobert shit hear might true might faker bitch told ya \n",
      " \n",
      "\n",
      "Sequence:\n",
      "[2, 13, 369, 251, 435, 251, 1, 196, 41] \n",
      " \n",
      "\n",
      "Tensor:\n",
      " [  0   0   0   0   0   0   0   0   0   0   0   0   0   0   0   0   0   0\n",
      "   0   0   0   0   0   0   0   0   0   0   0   0   0   0   0   0   0   0\n",
      "   0   0   0   0   0   0   0   0   0   0   0   0   0   0   0   0   0   0\n",
      "   0   0   0   0   0   0   0   0   0   0   0   0   0   0   0   0   0   0\n",
      "   0   0   0   0   0   0   0   0   0   0   0   0   0   0   0   0   0   0\n",
      "   0   2  13 369 251 435 251   1 196  41] \n",
      " \n",
      "\n"
     ]
    }
   ],
   "source": [
    "for i in range(5):\n",
    "    print(f\"Data {i}\")\n",
    "    print(f\"Original Text:\\n {corpus[i]} \\n \\n\")\n",
    "    print(f\"Sequence:\\n{sequences[i]} \\n \\n\")\n",
    "    print(f\"Tensor:\\n {data[i]} \\n \\n\")"
   ]
  },
  {
   "cell_type": "markdown",
   "id": "4be16d8c",
   "metadata": {
    "papermill": {
     "duration": 0.009749,
     "end_time": "2023-12-27T18:06:41.035529",
     "exception": false,
     "start_time": "2023-12-27T18:06:41.025780",
     "status": "completed"
    },
    "tags": []
   },
   "source": [
    "# Spliting data into test and training "
   ]
  },
  {
   "cell_type": "code",
   "execution_count": 19,
   "id": "bbdffcbe",
   "metadata": {
    "execution": {
     "iopub.execute_input": "2023-12-27T18:06:41.056870Z",
     "iopub.status.busy": "2023-12-27T18:06:41.056203Z",
     "iopub.status.idle": "2023-12-27T18:06:41.060795Z",
     "shell.execute_reply": "2023-12-27T18:06:41.059992Z"
    },
    "papermill": {
     "duration": 0.017222,
     "end_time": "2023-12-27T18:06:41.062701",
     "exception": false,
     "start_time": "2023-12-27T18:06:41.045479",
     "status": "completed"
    },
    "tags": []
   },
   "outputs": [],
   "source": [
    "X_train=data[:len(data)//2]\n",
    "y_train=label[:len(data)//2]\n",
    "X_test=data[len(data)//2:]\n",
    "y_test=label[len(data)//2:]"
   ]
  },
  {
   "cell_type": "code",
   "execution_count": 20,
   "id": "a568036d",
   "metadata": {
    "execution": {
     "iopub.execute_input": "2023-12-27T18:06:41.083872Z",
     "iopub.status.busy": "2023-12-27T18:06:41.083573Z",
     "iopub.status.idle": "2023-12-27T18:06:41.089339Z",
     "shell.execute_reply": "2023-12-27T18:06:41.088578Z"
    },
    "papermill": {
     "duration": 0.018331,
     "end_time": "2023-12-27T18:06:41.091224",
     "exception": false,
     "start_time": "2023-12-27T18:06:41.072893",
     "status": "completed"
    },
    "tags": []
   },
   "outputs": [
    {
     "data": {
      "text/plain": [
       "array([[  0,   0,   0, ...,  92,  56,  15],\n",
       "       [  0,   0,   0, ...,   3, 417, 405],\n",
       "       [  0,   0,   0, ..., 245, 806,  13],\n",
       "       ...,\n",
       "       [  0,   0,   0, ..., 623,   1,  93],\n",
       "       [  0,   0,   0, ...,   1,  17,  93],\n",
       "       [  0,   0,   0, ..., 107,   1,  93]], dtype=int32)"
      ]
     },
     "execution_count": 20,
     "metadata": {},
     "output_type": "execute_result"
    }
   ],
   "source": [
    "X_train"
   ]
  },
  {
   "cell_type": "code",
   "execution_count": 21,
   "id": "16849c67",
   "metadata": {
    "execution": {
     "iopub.execute_input": "2023-12-27T18:06:41.112591Z",
     "iopub.status.busy": "2023-12-27T18:06:41.112347Z",
     "iopub.status.idle": "2023-12-27T18:06:41.117999Z",
     "shell.execute_reply": "2023-12-27T18:06:41.117023Z"
    },
    "papermill": {
     "duration": 0.018307,
     "end_time": "2023-12-27T18:06:41.119829",
     "exception": false,
     "start_time": "2023-12-27T18:06:41.101522",
     "status": "completed"
    },
    "tags": []
   },
   "outputs": [
    {
     "data": {
      "text/plain": [
       "array([2, 1, 1, ..., 1, 1, 1])"
      ]
     },
     "execution_count": 21,
     "metadata": {},
     "output_type": "execute_result"
    }
   ],
   "source": [
    "y_train"
   ]
  },
  {
   "cell_type": "code",
   "execution_count": null,
   "id": "d4b1a90e",
   "metadata": {
    "papermill": {
     "duration": 0.00998,
     "end_time": "2023-12-27T18:06:41.140138",
     "exception": false,
     "start_time": "2023-12-27T18:06:41.130158",
     "status": "completed"
    },
    "tags": []
   },
   "outputs": [],
   "source": []
  },
  {
   "cell_type": "code",
   "execution_count": null,
   "id": "213e4e4b",
   "metadata": {
    "papermill": {
     "duration": 0.010075,
     "end_time": "2023-12-27T18:06:41.160491",
     "exception": false,
     "start_time": "2023-12-27T18:06:41.150416",
     "status": "completed"
    },
    "tags": []
   },
   "outputs": [],
   "source": []
  },
  {
   "cell_type": "code",
   "execution_count": null,
   "id": "00eade2d",
   "metadata": {
    "papermill": {
     "duration": 0.010301,
     "end_time": "2023-12-27T18:06:41.223828",
     "exception": false,
     "start_time": "2023-12-27T18:06:41.213527",
     "status": "completed"
    },
    "tags": []
   },
   "outputs": [],
   "source": []
  },
  {
   "cell_type": "markdown",
   "id": "dbb9b07b",
   "metadata": {
    "papermill": {
     "duration": 0.010161,
     "end_time": "2023-12-27T18:06:41.244370",
     "exception": false,
     "start_time": "2023-12-27T18:06:41.234209",
     "status": "completed"
    },
    "tags": []
   },
   "source": [
    "# Model "
   ]
  },
  {
   "cell_type": "code",
   "execution_count": 22,
   "id": "545d830e",
   "metadata": {
    "execution": {
     "iopub.execute_input": "2023-12-27T18:06:41.267028Z",
     "iopub.status.busy": "2023-12-27T18:06:41.266337Z",
     "iopub.status.idle": "2023-12-27T18:06:41.270637Z",
     "shell.execute_reply": "2023-12-27T18:06:41.269778Z"
    },
    "papermill": {
     "duration": 0.017751,
     "end_time": "2023-12-27T18:06:41.272528",
     "exception": false,
     "start_time": "2023-12-27T18:06:41.254777",
     "status": "completed"
    },
    "tags": []
   },
   "outputs": [],
   "source": [
    "from keras.models import Sequential\n",
    "from keras.layers import Dense,Flatten,Embedding,LSTM, Dropout"
   ]
  },
  {
   "cell_type": "code",
   "execution_count": 23,
   "id": "ac3f3310",
   "metadata": {
    "execution": {
     "iopub.execute_input": "2023-12-27T18:06:41.294331Z",
     "iopub.status.busy": "2023-12-27T18:06:41.294056Z",
     "iopub.status.idle": "2023-12-27T18:06:41.297991Z",
     "shell.execute_reply": "2023-12-27T18:06:41.297097Z"
    },
    "papermill": {
     "duration": 0.017009,
     "end_time": "2023-12-27T18:06:41.299875",
     "exception": false,
     "start_time": "2023-12-27T18:06:41.282866",
     "status": "completed"
    },
    "tags": []
   },
   "outputs": [],
   "source": [
    "embedding_dim=100"
   ]
  },
  {
   "cell_type": "code",
   "execution_count": 24,
   "id": "3c7ead29",
   "metadata": {
    "execution": {
     "iopub.execute_input": "2023-12-27T18:06:41.321826Z",
     "iopub.status.busy": "2023-12-27T18:06:41.321508Z",
     "iopub.status.idle": "2023-12-27T18:06:44.474333Z",
     "shell.execute_reply": "2023-12-27T18:06:44.472813Z"
    },
    "papermill": {
     "duration": 3.1671,
     "end_time": "2023-12-27T18:06:44.477325",
     "exception": false,
     "start_time": "2023-12-27T18:06:41.310225",
     "status": "completed"
    },
    "tags": []
   },
   "outputs": [],
   "source": [
    "model=models.Sequential([Embedding(max_word,embedding_dim,input_length=max_len),\n",
    "                        LSTM(64, dropout=0.3, recurrent_dropout=0.3),\n",
    "                        Flatten(),\n",
    "                        Dense(64,activation='relu'),\n",
    "                        Dropout(0.5),\n",
    "                        Dense(1, activation=\"softmax\")])"
   ]
  },
  {
   "cell_type": "code",
   "execution_count": 25,
   "id": "4af2b285",
   "metadata": {
    "execution": {
     "iopub.execute_input": "2023-12-27T18:06:44.504912Z",
     "iopub.status.busy": "2023-12-27T18:06:44.504348Z",
     "iopub.status.idle": "2023-12-27T18:06:44.643219Z",
     "shell.execute_reply": "2023-12-27T18:06:44.642292Z"
    },
    "papermill": {
     "duration": 0.155094,
     "end_time": "2023-12-27T18:06:44.646122",
     "exception": false,
     "start_time": "2023-12-27T18:06:44.491028",
     "status": "completed"
    },
    "tags": []
   },
   "outputs": [],
   "source": [
    "model=models.Sequential()\n",
    "\n",
    "model.add(Embedding(max_word,embedding_dim,input_length=max_len))\n",
    "model.add(layers.SimpleRNN(64,dropout=0.3,recurrent_dropout=0.4))\n",
    "Flatten(),\n",
    "model.add(layers.Dense(10,activation='sigmoid'))\n",
    "model.add(Dropout(0.1))\n",
    "model.add(layers.Dense(1,activation='relu'))"
   ]
  },
  {
   "cell_type": "code",
   "execution_count": 26,
   "id": "e4410ed1",
   "metadata": {
    "execution": {
     "iopub.execute_input": "2023-12-27T18:06:44.672772Z",
     "iopub.status.busy": "2023-12-27T18:06:44.672447Z",
     "iopub.status.idle": "2023-12-27T18:06:44.688957Z",
     "shell.execute_reply": "2023-12-27T18:06:44.688068Z"
    },
    "papermill": {
     "duration": 0.030702,
     "end_time": "2023-12-27T18:06:44.691334",
     "exception": false,
     "start_time": "2023-12-27T18:06:44.660632",
     "status": "completed"
    },
    "tags": []
   },
   "outputs": [],
   "source": [
    "model.compile(optimizer='rmsprop',loss='binary_crossentropy',metrics=['acc'])"
   ]
  },
  {
   "cell_type": "code",
   "execution_count": 27,
   "id": "d625e87e",
   "metadata": {
    "execution": {
     "iopub.execute_input": "2023-12-27T18:06:44.722617Z",
     "iopub.status.busy": "2023-12-27T18:06:44.722299Z",
     "iopub.status.idle": "2023-12-27T18:14:22.459841Z",
     "shell.execute_reply": "2023-12-27T18:14:22.458883Z"
    },
    "papermill": {
     "duration": 457.755374,
     "end_time": "2023-12-27T18:14:22.461944",
     "exception": false,
     "start_time": "2023-12-27T18:06:44.706570",
     "status": "completed"
    },
    "tags": []
   },
   "outputs": [
    {
     "name": "stdout",
     "output_type": "stream",
     "text": [
      "Epoch 1/10\n",
      "388/388 [==============================] - 58s 137ms/step - loss: 4.1476 - acc: 0.4594\n",
      "Epoch 2/10\n",
      "388/388 [==============================] - 45s 115ms/step - loss: -1.4614 - acc: 0.7610\n",
      "Epoch 3/10\n",
      "388/388 [==============================] - 45s 115ms/step - loss: -1.4686 - acc: 0.7614\n",
      "Epoch 4/10\n",
      "388/388 [==============================] - 44s 115ms/step - loss: -1.4804 - acc: 0.7614\n",
      "Epoch 5/10\n",
      "388/388 [==============================] - 44s 113ms/step - loss: -1.4776 - acc: 0.7614\n",
      "Epoch 6/10\n",
      "388/388 [==============================] - 44s 114ms/step - loss: -1.4817 - acc: 0.7614\n",
      "Epoch 7/10\n",
      "388/388 [==============================] - 44s 114ms/step - loss: -1.4808 - acc: 0.7614\n",
      "Epoch 8/10\n",
      "388/388 [==============================] - 44s 115ms/step - loss: -1.4802 - acc: 0.7614\n",
      "Epoch 9/10\n",
      "388/388 [==============================] - 44s 114ms/step - loss: -1.4817 - acc: 0.7614\n",
      "Epoch 10/10\n",
      "388/388 [==============================] - 45s 116ms/step - loss: -1.4817 - acc: 0.7614\n"
     ]
    },
    {
     "data": {
      "text/plain": [
       "<keras.src.callbacks.History at 0x7f4db09ffca0>"
      ]
     },
     "execution_count": 27,
     "metadata": {},
     "output_type": "execute_result"
    }
   ],
   "source": [
    "model.fit(X_train,y_train,epochs=10,batch_size=32)"
   ]
  },
  {
   "cell_type": "code",
   "execution_count": null,
   "id": "1ccf0d21",
   "metadata": {
    "papermill": {
     "duration": 0.310347,
     "end_time": "2023-12-27T18:14:23.092960",
     "exception": false,
     "start_time": "2023-12-27T18:14:22.782613",
     "status": "completed"
    },
    "tags": []
   },
   "outputs": [],
   "source": []
  }
 ],
 "metadata": {
  "kaggle": {
   "accelerator": "gpu",
   "dataSources": [
    {
     "datasetId": 4096079,
     "sourceId": 7105074,
     "sourceType": "datasetVersion"
    }
   ],
   "dockerImageVersionId": 30627,
   "isGpuEnabled": true,
   "isInternetEnabled": true,
   "language": "python",
   "sourceType": "notebook"
  },
  "kernelspec": {
   "display_name": "Python 3",
   "language": "python",
   "name": "python3"
  },
  "language_info": {
   "codemirror_mode": {
    "name": "ipython",
    "version": 3
   },
   "file_extension": ".py",
   "mimetype": "text/x-python",
   "name": "python",
   "nbconvert_exporter": "python",
   "pygments_lexer": "ipython3",
   "version": "3.10.12"
  },
  "papermill": {
   "default_parameters": {},
   "duration": 539.790956,
   "end_time": "2023-12-27T18:14:26.925573",
   "environment_variables": {},
   "exception": null,
   "input_path": "__notebook__.ipynb",
   "output_path": "__notebook__.ipynb",
   "parameters": {},
   "start_time": "2023-12-27T18:05:27.134617",
   "version": "2.4.0"
  }
 },
 "nbformat": 4,
 "nbformat_minor": 5
}
